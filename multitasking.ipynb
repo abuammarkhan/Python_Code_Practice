{
 "cells": [
  {
   "cell_type": "code",
   "execution_count": 3,
   "id": "8d6d70fe-2ae3-462c-bc2b-eef20c01c28b",
   "metadata": {},
   "outputs": [
    {
     "name": "stdout",
     "output_type": "stream",
     "text": [
      "i am ammar\n",
      "hello world\n"
     ]
    },
    {
     "name": "stderr",
     "output_type": "stream",
     "text": [
      "Exception in thread division:\n",
      "Traceback (most recent call last):\n",
      "  File \"C:\\Users\\Abu Ammar\\AppData\\Local\\Programs\\Python\\Python311\\Lib\\threading.py\", line 1038, in _bootstrap_inner\n",
      "    self.run()\n",
      "  File \"C:\\Users\\Abu Ammar\\AppData\\Local\\Programs\\Python\\Python311\\Lib\\threading.py\", line 975, in run\n",
      "    self._target(*self._args, **self._kwargs)\n",
      "  File \"C:\\Users\\Abu Ammar\\AppData\\Local\\Temp\\ipykernel_17576\\446785248.py\", line 8, in division\n",
      "ZeroDivisionError: division by zero\n"
     ]
    }
   ],
   "source": [
    "from threading import Thread\n",
    "\n",
    "def intro():\n",
    "    print(\"i am ammar\")\n",
    "\n",
    "\n",
    "def division():\n",
    "    print(2/0)\n",
    "\n",
    "\n",
    "def hello():\n",
    "    print(\"hello world\")\n",
    "\n",
    "\n",
    "t1=Thread(target=intro,name=\"intro\")\n",
    "t2=Thread(target=division,name=\"division\")\n",
    "t3=Thread(target=hello,name=\"hello\")\n",
    "\n",
    "t1.start()\n",
    "t2.start()\n",
    "t3.start()"
   ]
  },
  {
   "cell_type": "code",
   "execution_count": 1,
   "id": "7332fbfb-47a5-4a32-86d4-ccc7da27a9fc",
   "metadata": {},
   "outputs": [
    {
     "name": "stdout",
     "output_type": "stream",
     "text": [
      "hihello\n",
      "\n",
      "hellohi\n",
      "\n",
      "hihello\n",
      "\n",
      "hello\n",
      "hi\n",
      "hellohi\n",
      "\n",
      "hi\n",
      "hello\n",
      "hihello\n",
      "\n",
      "hellohi\n",
      "\n",
      "hellohi\n",
      "\n",
      "hi\n",
      "hello\n"
     ]
    }
   ],
   "source": [
    "from threading import Thread\n",
    "from time import sleep\n",
    "\n",
    "def hi():\n",
    "    for i in range(10):\n",
    "        print(\"hi\")\n",
    "        sleep(1)\n",
    "def hello():\n",
    "    for i in range(10):\n",
    "        print(\"hello\")\n",
    "        sleep(1)\n",
    "\n",
    "t1=Thread(target=hi)\n",
    "t2=Thread(target=hello)\n",
    "t1.start()\n",
    "t2.start()"
   ]
  },
  {
   "cell_type": "code",
   "execution_count": null,
   "id": "f58ee084-8ba4-44ba-a100-92c6981fa8bb",
   "metadata": {},
   "outputs": [],
   "source": []
  }
 ],
 "metadata": {
  "kernelspec": {
   "display_name": "Python 3 (ipykernel)",
   "language": "python",
   "name": "python3"
  },
  "language_info": {
   "codemirror_mode": {
    "name": "ipython",
    "version": 3
   },
   "file_extension": ".py",
   "mimetype": "text/x-python",
   "name": "python",
   "nbconvert_exporter": "python",
   "pygments_lexer": "ipython3",
   "version": "3.11.4"
  }
 },
 "nbformat": 4,
 "nbformat_minor": 5
}
