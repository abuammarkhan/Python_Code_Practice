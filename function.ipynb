{
 "cells": [
  {
   "cell_type": "markdown",
   "id": "85c0d17f-c52c-4ccd-a0d1-1f8281d7466d",
   "metadata": {},
   "source": [
    "#function: def\n",
    "\n",
    ">position arguement\n",
    "\n",
    ">key value arguement\n",
    "\n",
    ">keyword arguement\n",
    "\n",
    ">arbitrary arguement"
   ]
  },
  {
   "cell_type": "markdown",
   "id": "dd75b7e9-2d58-421b-bd1d-bbb5ff611ac1",
   "metadata": {},
   "source": [
    "#anonymous function: lambda"
   ]
  },
  {
   "cell_type": "code",
   "execution_count": 1,
   "id": "5a9d61a7-8e7b-492c-9a9f-e36a8376d332",
   "metadata": {},
   "outputs": [
    {
     "name": "stdout",
     "output_type": "stream",
     "text": [
      "hello word\n",
      "hello word\n",
      "hello word\n",
      "hello word\n",
      "hello word\n"
     ]
    }
   ],
   "source": [
    "print(\"hello word\")\n",
    "print(\"hello word\")\n",
    "print(\"hello word\")\n",
    "print(\"hello word\")\n",
    "print(\"hello word\")"
   ]
  },
  {
   "cell_type": "code",
   "execution_count": 9,
   "id": "aabb932e-31f2-4235-8791-45142148a569",
   "metadata": {},
   "outputs": [
    {
     "name": "stdout",
     "output_type": "stream",
     "text": [
      "hello word\n",
      "hello word\n",
      "hello word\n",
      "hello word\n",
      "hello word\n"
     ]
    }
   ],
   "source": [
    "for i in range(5):\n",
    "    print(\"hello word\")"
   ]
  },
  {
   "cell_type": "code",
   "execution_count": 3,
   "id": "86587b03-5386-4ca7-afe1-1843fd306564",
   "metadata": {},
   "outputs": [
    {
     "name": "stdout",
     "output_type": "stream",
     "text": [
      "i am ammar\n"
     ]
    }
   ],
   "source": [
    "print(\"i am ammar\")"
   ]
  },
  {
   "cell_type": "code",
   "execution_count": 10,
   "id": "23123b37-ae52-44bf-b6c6-c3315fa8fe42",
   "metadata": {},
   "outputs": [],
   "source": [
    "def hello():\n",
    "    for i in range(5):\n",
    "        print(\"hello world\")"
   ]
  },
  {
   "cell_type": "code",
   "execution_count": 11,
   "id": "550db7a5-a217-40a7-9eac-f1b7c1911277",
   "metadata": {},
   "outputs": [
    {
     "name": "stdout",
     "output_type": "stream",
     "text": [
      "hello world\n",
      "hello world\n",
      "hello world\n",
      "hello world\n",
      "hello world\n"
     ]
    }
   ],
   "source": [
    "hello()"
   ]
  },
  {
   "cell_type": "code",
   "execution_count": 12,
   "id": "b304b62e-0b09-45cc-8ed9-1973d9cc6905",
   "metadata": {},
   "outputs": [
    {
     "name": "stdout",
     "output_type": "stream",
     "text": [
      "i am ammar\n"
     ]
    }
   ],
   "source": [
    "print(\"i am ammar\")"
   ]
  },
  {
   "cell_type": "code",
   "execution_count": 13,
   "id": "85c0183b-e3af-454b-8f9d-8e6c482cae70",
   "metadata": {},
   "outputs": [
    {
     "name": "stdout",
     "output_type": "stream",
     "text": [
      "hello world\n",
      "hello world\n",
      "hello world\n",
      "hello world\n",
      "hello world\n"
     ]
    }
   ],
   "source": [
    "hello()"
   ]
  },
  {
   "cell_type": "code",
   "execution_count": 21,
   "id": "20ffc478-6a5e-40b4-a4ec-2726162fd72c",
   "metadata": {},
   "outputs": [],
   "source": [
    "def hello1(n):\n",
    "    for i in range(n):\n",
    "        print(\"hello world\")"
   ]
  },
  {
   "cell_type": "code",
   "execution_count": 22,
   "id": "f2de8b89-fb4e-4536-a96b-a33463abeb3f",
   "metadata": {},
   "outputs": [
    {
     "name": "stdout",
     "output_type": "stream",
     "text": [
      "hello world\n",
      "hello world\n"
     ]
    }
   ],
   "source": [
    "hello1(2)"
   ]
  },
  {
   "cell_type": "code",
   "execution_count": 18,
   "id": "4bb49aa0-bf0a-4f21-a6cf-00a9a44e2af6",
   "metadata": {},
   "outputs": [
    {
     "name": "stdout",
     "output_type": "stream",
     "text": [
      "hello world\n",
      "hello world\n",
      "hello world\n",
      "hello world\n",
      "hello world\n"
     ]
    }
   ],
   "source": [
    "hello()"
   ]
  },
  {
   "cell_type": "code",
   "execution_count": 23,
   "id": "e21906ff-d335-4033-8afb-85f5387e9602",
   "metadata": {},
   "outputs": [
    {
     "name": "stdout",
     "output_type": "stream",
     "text": [
      "hello world\n",
      "hello world\n",
      "hello world\n",
      "hello world\n",
      "hello world\n",
      "hello world\n"
     ]
    }
   ],
   "source": [
    "hello1(6)"
   ]
  },
  {
   "cell_type": "code",
   "execution_count": 48,
   "id": "deed9284-949b-48c7-b41c-5a1f6c0ad1ea",
   "metadata": {},
   "outputs": [],
   "source": [
    "def ammar(m):\n",
    "    for i in range(m):\n",
    "        print(\"this is python class\")"
   ]
  },
  {
   "cell_type": "code",
   "execution_count": 49,
   "id": "5aa321b1-7365-4a1e-a342-1f4bdf94398c",
   "metadata": {},
   "outputs": [
    {
     "name": "stdout",
     "output_type": "stream",
     "text": [
      "this is python class\n",
      "this is python class\n",
      "this is python class\n",
      "this is python class\n",
      "this is python class\n",
      "this is python class\n",
      "this is python class\n",
      "this is python class\n"
     ]
    }
   ],
   "source": [
    "ammar(8)"
   ]
  },
  {
   "cell_type": "code",
   "execution_count": 50,
   "id": "26ab507f-fd61-490a-b75b-917fc7d24e47",
   "metadata": {},
   "outputs": [
    {
     "name": "stdout",
     "output_type": "stream",
     "text": [
      "this is python class\n",
      "this is python class\n",
      "this is python class\n"
     ]
    }
   ],
   "source": [
    "ammar(3)"
   ]
  },
  {
   "cell_type": "code",
   "execution_count": 51,
   "id": "8c748ffa-05fe-4bd6-bdf9-a4e51753824e",
   "metadata": {},
   "outputs": [
    {
     "name": "stdout",
     "output_type": "stream",
     "text": [
      "this is python class\n",
      "this is python class\n",
      "this is python class\n",
      "this is python class\n"
     ]
    }
   ],
   "source": [
    "ammar(4)"
   ]
  },
  {
   "cell_type": "code",
   "execution_count": 7,
   "id": "dda48497-f2ed-4f78-bac9-2c43a459ba27",
   "metadata": {},
   "outputs": [],
   "source": [
    "def name(a):\n",
    "    print(\"i am {}\".format(a))"
   ]
  },
  {
   "cell_type": "code",
   "execution_count": 9,
   "id": "67789e97-d6e8-4df6-b77b-9d89d671a95a",
   "metadata": {},
   "outputs": [
    {
     "name": "stdout",
     "output_type": "stream",
     "text": [
      "i am anas khan\n"
     ]
    }
   ],
   "source": [
    "name(\"anas khan\")"
   ]
  },
  {
   "cell_type": "code",
   "execution_count": 52,
   "id": "d489b401-9107-475c-aec6-2cef6a884af5",
   "metadata": {},
   "outputs": [],
   "source": [
    "def name(a):\n",
    "    print(\"i am {}\".format(a))"
   ]
  },
  {
   "cell_type": "code",
   "execution_count": 53,
   "id": "9046853b-3ab6-4a74-9fab-29ef3ebd4fc2",
   "metadata": {},
   "outputs": [
    {
     "name": "stdout",
     "output_type": "stream",
     "text": [
      "i am ammar\n"
     ]
    }
   ],
   "source": [
    "name(\"ammar\")"
   ]
  },
  {
   "cell_type": "code",
   "execution_count": 54,
   "id": "0cd20a3c-c8c3-4edd-bccc-9331c3ec1bb1",
   "metadata": {},
   "outputs": [
    {
     "name": "stdout",
     "output_type": "stream",
     "text": [
      "i am armaan\n"
     ]
    }
   ],
   "source": [
    "name(\"armaan\")"
   ]
  },
  {
   "cell_type": "code",
   "execution_count": 74,
   "id": "951a21ac-1d58-4497-b004-5d6bf3f10e02",
   "metadata": {},
   "outputs": [],
   "source": [
    "def mobile_no(m):\n",
    "    print(\"my mobile no is {}\".format(m))"
   ]
  },
  {
   "cell_type": "code",
   "execution_count": 75,
   "id": "094e1999-efb3-4d8a-b18e-4649c8ac70ee",
   "metadata": {},
   "outputs": [
    {
     "name": "stdout",
     "output_type": "stream",
     "text": [
      "my mobile no is 7607707295\n"
     ]
    }
   ],
   "source": [
    "mobile_no(7607707295)"
   ]
  },
  {
   "cell_type": "code",
   "execution_count": 76,
   "id": "a7788cb7-b1d8-4f13-9a22-fc18bfb944b8",
   "metadata": {},
   "outputs": [
    {
     "name": "stdout",
     "output_type": "stream",
     "text": [
      "my mobile no is 7839081072\n"
     ]
    }
   ],
   "source": [
    "mobile_no(7839081072)"
   ]
  },
  {
   "cell_type": "code",
   "execution_count": 66,
   "id": "89fef1fc-724b-4bec-8732-852013a40760",
   "metadata": {},
   "outputs": [],
   "source": [
    "def add(a,b):\n",
    "    print(a+b)\n"
   ]
  },
  {
   "cell_type": "code",
   "execution_count": 67,
   "id": "90319342-c925-43ed-95d6-2540e2e28795",
   "metadata": {},
   "outputs": [
    {
     "name": "stdout",
     "output_type": "stream",
     "text": [
      "50\n"
     ]
    }
   ],
   "source": [
    "add(20,30)"
   ]
  },
  {
   "cell_type": "code",
   "execution_count": 68,
   "id": "1ea50eca-7b06-466d-8c6a-e34488a0d87b",
   "metadata": {},
   "outputs": [],
   "source": [
    "def add(a,b):\n",
    "    print(\"a :\",b)\n",
    "    print(\"b :\",a)\n",
    "    print(a+b)"
   ]
  },
  {
   "cell_type": "code",
   "execution_count": 71,
   "id": "87418d33-fed7-48f5-9e54-421cb8486cd7",
   "metadata": {},
   "outputs": [
    {
     "name": "stdout",
     "output_type": "stream",
     "text": [
      "a : 20\n",
      "b : 30\n",
      "50\n"
     ]
    }
   ],
   "source": [
    "add(30,20)"
   ]
  },
  {
   "cell_type": "code",
   "execution_count": 72,
   "id": "4aad04e9-737f-45b2-a449-f3d48db25bf9",
   "metadata": {},
   "outputs": [],
   "source": [
    "def add1(b,a):\n",
    "    print(\"a :\",b)\n",
    "    print(\"b :\",a)\n",
    "    print(a+b)"
   ]
  },
  {
   "cell_type": "code",
   "execution_count": 73,
   "id": "62aa6ca7-e434-4996-94f6-35bc33cc548e",
   "metadata": {},
   "outputs": [
    {
     "name": "stdout",
     "output_type": "stream",
     "text": [
      "a : 30\n",
      "b : 20\n",
      "50\n"
     ]
    }
   ],
   "source": [
    "add1(30,20)"
   ]
  },
  {
   "cell_type": "code",
   "execution_count": 79,
   "id": "97bdfeab-d90b-44f8-b747-ba35d351c027",
   "metadata": {},
   "outputs": [],
   "source": [
    "def rate_of_intrest(p,r,t):\n",
    "    result=(p*r*t)/100\n",
    "    print(result)"
   ]
  },
  {
   "cell_type": "code",
   "execution_count": 82,
   "id": "df66ba2a-8803-41ea-9b82-03eb1beb2be0",
   "metadata": {},
   "outputs": [
    {
     "name": "stdout",
     "output_type": "stream",
     "text": [
      "2000.0\n"
     ]
    }
   ],
   "source": [
    "rate_of_intrest(10000,10,2)"
   ]
  },
  {
   "cell_type": "code",
   "execution_count": 13,
   "id": "949900a8-2106-4f83-a7a7-684743836b6f",
   "metadata": {},
   "outputs": [],
   "source": [
    "a=[1,3,5,7,9,222,347,875,333,222,4,6,10]"
   ]
  },
  {
   "cell_type": "code",
   "execution_count": 14,
   "id": "86aec1fa-2d5e-4f68-9ee3-b20aacdfd9f5",
   "metadata": {},
   "outputs": [],
   "source": [
    "def sort1(arg):\n",
    "    arg.sort()\n",
    "    print(arg)"
   ]
  },
  {
   "cell_type": "code",
   "execution_count": 15,
   "id": "9c308585-556e-400b-9119-8a573a6a3d22",
   "metadata": {},
   "outputs": [
    {
     "name": "stdout",
     "output_type": "stream",
     "text": [
      "[1, 3, 4, 5, 6, 7, 9, 10, 222, 222, 333, 347, 875]\n"
     ]
    }
   ],
   "source": [
    "sort1(a)"
   ]
  },
  {
   "cell_type": "code",
   "execution_count": 36,
   "id": "29d6e357-9c21-4a12-ba71-b25c38160076",
   "metadata": {},
   "outputs": [
    {
     "name": "stdout",
     "output_type": "stream",
     "text": [
      "odd list:  [1, 3, 5, 7, 9, 11]\n",
      "even list:  [0, 2, 4, 6, 8, 10, 12]\n"
     ]
    }
   ],
   "source": [
    "odd=[]\n",
    "even=[]\n",
    "for i in range(len(a)):\n",
    "    if i%2==0:\n",
    "        even.append(i)\n",
    "    else:\n",
    "        odd.append(i)\n",
    "print(\"odd list: \",odd)\n",
    "print(\"even list: \",even)"
   ]
  },
  {
   "cell_type": "raw",
   "id": "3cc3ac26-c498-436f-a2ec-c924c1540a69",
   "metadata": {},
   "source": [
    "# function\n",
    "\n",
    "  > def\n",
    "\n",
    "          > local variable\n",
    "        \n",
    "          > global variable\n",
    "    \n",
    "          > return\n",
    "\n",
    " # arguments\n",
    "    \n",
    "          > default argument\n",
    "        \n",
    "          > positional argument\n",
    "        \n",
    "          > keyword argument\n",
    "        \n",
    "          > arbitrary argument\n",
    "        \n",
    "          > arbitrary positional argument\n",
    "        \n",
    "          > arbitrary keyword argument    \n",
    "\n",
    "  > lambda(fat function, fat arrow function =>)\n",
    "\n",
    "  > decorator(nested function)\n",
    "\n",
    "  > generator"
   ]
  },
  {
   "cell_type": "code",
   "execution_count": 39,
   "id": "00b88add-f43b-46a8-8964-468a5626646d",
   "metadata": {},
   "outputs": [],
   "source": [
    "def add2():\n",
    "    a=10\n",
    "    b=20\n",
    "    return(a+b)"
   ]
  },
  {
   "cell_type": "code",
   "execution_count": 29,
   "id": "d1a8386b-4552-4c5f-8711-e893d8f850e9",
   "metadata": {},
   "outputs": [
    {
     "data": {
      "text/plain": [
       "13"
      ]
     },
     "execution_count": 29,
     "metadata": {},
     "output_type": "execute_result"
    }
   ],
   "source": [
    "len(a)"
   ]
  },
  {
   "cell_type": "code",
   "execution_count": 40,
   "id": "77d0962f-6739-4e59-88ff-5b9e8a35741f",
   "metadata": {},
   "outputs": [
    {
     "data": {
      "text/plain": [
       "30"
      ]
     },
     "execution_count": 40,
     "metadata": {},
     "output_type": "execute_result"
    }
   ],
   "source": [
    "add2()"
   ]
  },
  {
   "cell_type": "code",
   "execution_count": 41,
   "id": "4c5959ff-df46-4288-8886-e6c015932e41",
   "metadata": {},
   "outputs": [],
   "source": [
    "k=add2()"
   ]
  },
  {
   "cell_type": "code",
   "execution_count": 42,
   "id": "7b572792-3ba1-4931-996f-1a45f20aebfb",
   "metadata": {},
   "outputs": [
    {
     "name": "stdout",
     "output_type": "stream",
     "text": [
      "30\n"
     ]
    }
   ],
   "source": [
    "print(k)"
   ]
  },
  {
   "cell_type": "code",
   "execution_count": 3,
   "id": "34f02f03-58c3-4ef1-aa99-d7fc2c5914ca",
   "metadata": {},
   "outputs": [],
   "source": [
    "def add3():\n",
    "    a=10\n",
    "    b=20\n",
    "    return a\n",
    "    return b"
   ]
  },
  {
   "cell_type": "code",
   "execution_count": 4,
   "id": "67388b46-a460-4289-9c08-40f0c0d6c8f0",
   "metadata": {},
   "outputs": [
    {
     "data": {
      "text/plain": [
       "10"
      ]
     },
     "execution_count": 4,
     "metadata": {},
     "output_type": "execute_result"
    }
   ],
   "source": [
    "add3()"
   ]
  },
  {
   "cell_type": "code",
   "execution_count": 5,
   "id": "5a7ecf65-3ec7-46c3-90bf-9162ebc57e57",
   "metadata": {},
   "outputs": [],
   "source": [
    "def add4():\n",
    "    a=10\n",
    "    b=20\n",
    "    #return a\n",
    "    return b"
   ]
  },
  {
   "cell_type": "code",
   "execution_count": 6,
   "id": "5acbdb73-1f6c-416b-bffd-c74442c2e61b",
   "metadata": {},
   "outputs": [
    {
     "data": {
      "text/plain": [
       "20"
      ]
     },
     "execution_count": 6,
     "metadata": {},
     "output_type": "execute_result"
    }
   ],
   "source": [
    "add4()"
   ]
  },
  {
   "cell_type": "code",
   "execution_count": 9,
   "id": "75d83fbf-2fc4-4b97-9bfb-cd6a41a22d87",
   "metadata": {},
   "outputs": [],
   "source": [
    "def add5():\n",
    "    a=5\n",
    "    b=15\n",
    "    c=18\n",
    "    #return a\n",
    "    #return b\n",
    "    return c"
   ]
  },
  {
   "cell_type": "code",
   "execution_count": 10,
   "id": "4a032ead-ada0-46dc-8cd3-5ca9790d626f",
   "metadata": {},
   "outputs": [
    {
     "data": {
      "text/plain": [
       "18"
      ]
     },
     "execution_count": 10,
     "metadata": {},
     "output_type": "execute_result"
    }
   ],
   "source": [
    "add5()"
   ]
  },
  {
   "cell_type": "code",
   "execution_count": 3,
   "id": "4bf7a2a8-6057-4f5c-8dcf-43f28a12a545",
   "metadata": {},
   "outputs": [
    {
     "name": "stdin",
     "output_type": "stream",
     "text": [
      "enter a first number : 80\n",
      "enter second number : 90\n",
      "kindly choose a valid operation +,-,/,* : *\n"
     ]
    },
    {
     "name": "stdout",
     "output_type": "stream",
     "text": [
      "7200\n"
     ]
    }
   ],
   "source": [
    "num1=eval(input(\"enter a first number :\"))\n",
    "num2=eval(input(\"enter second number :\"))\n",
    "option=input(\"kindly choose a valid operation +,-,/,* :\").strip()\n",
    "if option ==\"+\":\n",
    "    print(num1+num2)\n",
    "elif option==\"-\":\n",
    "    print(num1-num2)\n",
    "elif option==\"/\":\n",
    "    print(num1/num2)\n",
    "elif option==\"*\":\n",
    "    print(num1*num2)\n",
    "else:\n",
    "    print(\"syntax error\")"
   ]
  },
  {
   "cell_type": "code",
   "execution_count": 17,
   "id": "31946b9a-fd15-4a69-bef7-2b0c1eeacf96",
   "metadata": {},
   "outputs": [],
   "source": [
    "def calculator():\n",
    "    num1=eval(input(\"enter a first number :\"))\n",
    "    num2=eval(input(\"enter second number :\"))\n",
    "    option=input(\"kindly choose a valid operation +,-,/,* :\").strip()\n",
    "    if option ==\"+\":\n",
    "        print(num1+num2)\n",
    "    elif option==\"-\":\n",
    "        print(num1-num2)\n",
    "    elif option==\"/\":\n",
    "        print(num1/num2)\n",
    "    elif option==\"*\":\n",
    "        print(num1*num2)\n",
    "    else:\n",
    "        print(\"syntax error\")"
   ]
  },
  {
   "cell_type": "code",
   "execution_count": 19,
   "id": "6df4c2d4-2208-4518-91c8-3ba81c1a95e3",
   "metadata": {},
   "outputs": [
    {
     "name": "stdin",
     "output_type": "stream",
     "text": [
      "enter a first number : 10\n",
      "enter second number : 20\n",
      "kindly choose a valid operation +,-,/,* : +\n"
     ]
    },
    {
     "name": "stdout",
     "output_type": "stream",
     "text": [
      "30\n"
     ]
    }
   ],
   "source": [
    "calculator()"
   ]
  },
  {
   "cell_type": "code",
   "execution_count": 1,
   "id": "195728fe-e178-4bd3-acff-82a6c6997b15",
   "metadata": {},
   "outputs": [],
   "source": [
    "def calculator():\n",
    "    num1=eval(input(\"enter a first number :\"))\n",
    "    num2=eval(input(\"enter second number :\"))\n",
    "    option=input(\"kindly choose a valid operation +,-,/,* :\").strip()\n",
    "    if option ==\"+\":\n",
    "       return(num1+num2)\n",
    "    elif option==\"-\":\n",
    "        return(num1-num2)\n",
    "    elif option==\"/\":\n",
    "        return(num1/num2)\n",
    "    elif option==\"*\":\n",
    "       return(num1*num2)\n",
    "    else:\n",
    "        print(\"syntax error\")\n",
    "    return result"
   ]
  },
  {
   "cell_type": "code",
   "execution_count": 2,
   "id": "842de920-ce12-4a1d-9bb3-ebc9fc59c402",
   "metadata": {},
   "outputs": [
    {
     "name": "stdin",
     "output_type": "stream",
     "text": [
      "enter a first number : 57\n",
      "enter second number : 80\n",
      "kindly choose a valid operation +,-,/,* : +\n"
     ]
    }
   ],
   "source": [
    "a=calculator()"
   ]
  },
  {
   "cell_type": "code",
   "execution_count": 3,
   "id": "4f219037-3967-4783-8ba8-df0643e03499",
   "metadata": {},
   "outputs": [
    {
     "name": "stdout",
     "output_type": "stream",
     "text": [
      "137\n"
     ]
    }
   ],
   "source": [
    "print(a)"
   ]
  },
  {
   "cell_type": "code",
   "execution_count": 26,
   "id": "bbb0ca7a-8ddb-4440-b6a7-5082bf7c2559",
   "metadata": {},
   "outputs": [
    {
     "name": "stdin",
     "output_type": "stream",
     "text": [
      "enter a first number : 20\n",
      "enter second number : 30\n",
      "kindly choose a valid operation +,-,/,* : +\n"
     ]
    }
   ],
   "source": [
    "b=calculator()"
   ]
  },
  {
   "cell_type": "code",
   "execution_count": 27,
   "id": "a1479641-47d5-4825-81bc-c1e579d09c0b",
   "metadata": {},
   "outputs": [
    {
     "name": "stdout",
     "output_type": "stream",
     "text": [
      "50\n"
     ]
    }
   ],
   "source": [
    "print(b)"
   ]
  },
  {
   "cell_type": "code",
   "execution_count": 28,
   "id": "0ee0a29b-dda8-4a86-be70-2b1a16644ada",
   "metadata": {},
   "outputs": [
    {
     "data": {
      "text/plain": [
       "-20"
      ]
     },
     "execution_count": 28,
     "metadata": {},
     "output_type": "execute_result"
    }
   ],
   "source": [
    "a-b"
   ]
  },
  {
   "cell_type": "code",
   "execution_count": 29,
   "id": "d1e03b84-2b27-4ad3-a64f-d356a04a52bd",
   "metadata": {},
   "outputs": [
    {
     "name": "stdin",
     "output_type": "stream",
     "text": [
      "enter a first number : 10\n",
      "enter second number : 20\n",
      "kindly choose a valid operation +,-,/,* : +\n",
      "enter a first number : 20\n",
      "enter second number : 30\n",
      "kindly choose a valid operation +,-,/,* : +\n"
     ]
    },
    {
     "data": {
      "text/plain": [
       "-20"
      ]
     },
     "execution_count": 29,
     "metadata": {},
     "output_type": "execute_result"
    }
   ],
   "source": [
    "calculator()-calculator()"
   ]
  },
  {
   "cell_type": "code",
   "execution_count": 34,
   "id": "3eb9e904-602d-480b-9002-67dad05f118e",
   "metadata": {},
   "outputs": [],
   "source": [
    "def add():\n",
    "    a=10\n",
    "    b=20\n",
    "    print(a+b)"
   ]
  },
  {
   "cell_type": "code",
   "execution_count": 35,
   "id": "7a1ec40e-43e3-4cbd-bcce-05239a300cce",
   "metadata": {},
   "outputs": [
    {
     "name": "stdout",
     "output_type": "stream",
     "text": [
      "30\n"
     ]
    }
   ],
   "source": [
    "add()"
   ]
  },
  {
   "cell_type": "code",
   "execution_count": 4,
   "id": "807b44dc-b116-4893-affb-3f0bca2e5287",
   "metadata": {},
   "outputs": [],
   "source": [
    "x=20"
   ]
  },
  {
   "cell_type": "code",
   "execution_count": 5,
   "id": "2fd3bd7b-61e0-43a4-84f8-ff45409017ba",
   "metadata": {},
   "outputs": [],
   "source": [
    "y=30"
   ]
  },
  {
   "cell_type": "code",
   "execution_count": 6,
   "id": "f9bb88da-53b6-4328-a461-8958aee58fcd",
   "metadata": {},
   "outputs": [],
   "source": [
    "def add5():\n",
    "    print(x+y)"
   ]
  },
  {
   "cell_type": "code",
   "execution_count": 8,
   "id": "0becfeef-2044-4b1a-a300-f81c512328f8",
   "metadata": {},
   "outputs": [
    {
     "name": "stdout",
     "output_type": "stream",
     "text": [
      "50\n"
     ]
    }
   ],
   "source": [
    "add5()"
   ]
  },
  {
   "cell_type": "code",
   "execution_count": 10,
   "id": "54540438-8b80-4dc6-b271-fa063a99d7b4",
   "metadata": {},
   "outputs": [],
   "source": [
    "def add51():\n",
    "    x=2.5\n",
    "    y=7.5\n",
    "    print(x+y)"
   ]
  },
  {
   "cell_type": "code",
   "execution_count": 11,
   "id": "78d2c9d4-9cef-4aeb-9944-c6fb42ef2752",
   "metadata": {},
   "outputs": [
    {
     "name": "stdout",
     "output_type": "stream",
     "text": [
      "10.0\n"
     ]
    }
   ],
   "source": [
    "add51()"
   ]
  },
  {
   "cell_type": "code",
   "execution_count": 12,
   "id": "2d94e558-3cac-4fe8-bf8c-136c15c2b202",
   "metadata": {},
   "outputs": [],
   "source": [
    "def add51():\n",
    "    print(x+y)"
   ]
  },
  {
   "cell_type": "code",
   "execution_count": 13,
   "id": "daf98c9e-ebdb-4992-a0b6-d7139b675ef6",
   "metadata": {},
   "outputs": [
    {
     "name": "stdout",
     "output_type": "stream",
     "text": [
      "50\n"
     ]
    }
   ],
   "source": [
    "add5()"
   ]
  },
  {
   "cell_type": "code",
   "execution_count": 49,
   "id": "3a34277b-a74f-4ccc-9ee2-3697de2a6238",
   "metadata": {},
   "outputs": [],
   "source": [
    "def add51():\n",
    "    global x,y\n",
    "    x=2.5\n",
    "    y=7.5\n",
    "    print(x+y)"
   ]
  },
  {
   "cell_type": "code",
   "execution_count": 50,
   "id": "094a2d15-4e82-4cf4-a6d7-dab347dc3406",
   "metadata": {},
   "outputs": [
    {
     "name": "stdout",
     "output_type": "stream",
     "text": [
      "10.0\n"
     ]
    }
   ],
   "source": [
    "add51()"
   ]
  },
  {
   "cell_type": "code",
   "execution_count": 51,
   "id": "0cec340c-29b0-4027-9a36-a292380e3d5d",
   "metadata": {},
   "outputs": [
    {
     "name": "stdout",
     "output_type": "stream",
     "text": [
      "2.5\n"
     ]
    }
   ],
   "source": [
    "print(x)"
   ]
  },
  {
   "cell_type": "code",
   "execution_count": 52,
   "id": "bdb70411-433e-482c-90d7-eaee8ffbd3d1",
   "metadata": {},
   "outputs": [
    {
     "name": "stdout",
     "output_type": "stream",
     "text": [
      "7.5\n"
     ]
    }
   ],
   "source": [
    "print(y)"
   ]
  },
  {
   "cell_type": "code",
   "execution_count": 53,
   "id": "a43eb6f3-3f76-4a10-93c8-a42f95804563",
   "metadata": {},
   "outputs": [],
   "source": [
    "def a():\n",
    "    a=20\n",
    "    c=30\n",
    "    print(a,c)"
   ]
  },
  {
   "cell_type": "code",
   "execution_count": 54,
   "id": "551ccf36-a097-48d9-a84f-8f5f759a45c7",
   "metadata": {},
   "outputs": [
    {
     "name": "stdout",
     "output_type": "stream",
     "text": [
      "20 30\n"
     ]
    }
   ],
   "source": [
    "a()"
   ]
  },
  {
   "cell_type": "markdown",
   "id": "bde3c33a-d7e4-45d3-ab6e-007506a39064",
   "metadata": {},
   "source": [
    "# return Keyword"
   ]
  },
  {
   "cell_type": "code",
   "execution_count": 20,
   "id": "670260af-3d4e-4a29-bc78-23c540f28a62",
   "metadata": {},
   "outputs": [],
   "source": [
    "def add2():\n",
    "    a=10\n",
    "    b=20\n",
    "    print(a+b)"
   ]
  },
  {
   "cell_type": "code",
   "execution_count": 21,
   "id": "e1cadd8d-19fa-46a0-b1c2-7495ba060d8f",
   "metadata": {},
   "outputs": [
    {
     "name": "stdout",
     "output_type": "stream",
     "text": [
      "30\n"
     ]
    }
   ],
   "source": [
    "add2()"
   ]
  },
  {
   "cell_type": "code",
   "execution_count": 22,
   "id": "a92a9af0-e770-4688-90b2-19c7698623e0",
   "metadata": {},
   "outputs": [
    {
     "ename": "NameError",
     "evalue": "name 'a' is not defined",
     "output_type": "error",
     "traceback": [
      "\u001b[1;31m---------------------------------------------------------------------------\u001b[0m",
      "\u001b[1;31mNameError\u001b[0m                                 Traceback (most recent call last)",
      "Cell \u001b[1;32mIn[22], line 1\u001b[0m\n\u001b[1;32m----> 1\u001b[0m \u001b[38;5;28mprint\u001b[39m(\u001b[43ma\u001b[49m)\n",
      "\u001b[1;31mNameError\u001b[0m: name 'a' is not defined"
     ]
    }
   ],
   "source": [
    "print(a)"
   ]
  },
  {
   "cell_type": "code",
   "execution_count": 18,
   "id": "7f4423d5-baff-4ba1-b952-0089a8212b6b",
   "metadata": {},
   "outputs": [
    {
     "name": "stdout",
     "output_type": "stream",
     "text": [
      "hello world\n",
      "None\n"
     ]
    }
   ],
   "source": [
    "print(print(\"hello world\"))"
   ]
  },
  {
   "cell_type": "code",
   "execution_count": 63,
   "id": "ec1c0896-eb98-474b-981c-933edd2d3d3d",
   "metadata": {},
   "outputs": [],
   "source": [
    "def add2():\n",
    "    a=10\n",
    "    b=20\n",
    "    return(a+b)"
   ]
  },
  {
   "cell_type": "code",
   "execution_count": 64,
   "id": "90ea5bdc-0ccd-4fe7-9975-b8bdc323bbbd",
   "metadata": {},
   "outputs": [
    {
     "data": {
      "text/plain": [
       "30"
      ]
     },
     "execution_count": 64,
     "metadata": {},
     "output_type": "execute_result"
    }
   ],
   "source": [
    "add2()"
   ]
  },
  {
   "cell_type": "markdown",
   "id": "e449cf07-340a-4fd3-8eec-ca7838a4f3a6",
   "metadata": {},
   "source": [
    " # argument \n",
    "          > default argument\n",
    "        \n",
    "          > positional argument\n",
    "        \n",
    "          > keyword argument\n",
    "        \n",
    "          > arbitrary argument\n",
    "        \n",
    "          > arbitrary positional argument\n",
    "        \n",
    "          > arbitrary keyword argument    \n"
   ]
  },
  {
   "cell_type": "code",
   "execution_count": 26,
   "id": "ff37f5ad-a354-492e-9510-7cc43e796cd2",
   "metadata": {},
   "outputs": [],
   "source": [
    "def sum(a=10,b=20): #default argument\n",
    "    print(a+b)"
   ]
  },
  {
   "cell_type": "code",
   "execution_count": 27,
   "id": "1f3abd66-62b7-47de-b270-527e183bf051",
   "metadata": {},
   "outputs": [
    {
     "name": "stdout",
     "output_type": "stream",
     "text": [
      "30\n"
     ]
    }
   ],
   "source": [
    "sum()"
   ]
  },
  {
   "cell_type": "code",
   "execution_count": 30,
   "id": "751ab520-27d0-42df-961a-5f9cb04c5abd",
   "metadata": {},
   "outputs": [
    {
     "name": "stdout",
     "output_type": "stream",
     "text": [
      "300\n"
     ]
    }
   ],
   "source": [
    "sum(100,200)"
   ]
  },
  {
   "cell_type": "code",
   "execution_count": 31,
   "id": "5d13544e-5b22-4764-ae57-876bfce16c93",
   "metadata": {},
   "outputs": [
    {
     "name": "stdout",
     "output_type": "stream",
     "text": [
      "100\n"
     ]
    }
   ],
   "source": [
    "sum(90,10)"
   ]
  },
  {
   "cell_type": "code",
   "execution_count": 32,
   "id": "1ba50c08-879f-4682-958f-d0040dd01978",
   "metadata": {},
   "outputs": [
    {
     "name": "stdout",
     "output_type": "stream",
     "text": [
      "10.0\n"
     ]
    }
   ],
   "source": [
    "sum(7.5,2.5)"
   ]
  },
  {
   "cell_type": "markdown",
   "id": "0fffe2ea-f5e2-4ea3-991f-eba8d33384c0",
   "metadata": {},
   "source": [
    "# keyword argument"
   ]
  },
  {
   "cell_type": "code",
   "execution_count": 39,
   "id": "5566a921-8575-43fc-b307-6d42201451f3",
   "metadata": {},
   "outputs": [],
   "source": [
    "def sum2(a=10,b=20): #keyword argument\n",
    "    print(a+b)"
   ]
  },
  {
   "cell_type": "code",
   "execution_count": 40,
   "id": "e5573e50-88b4-4ab7-bf89-010862d74fa9",
   "metadata": {},
   "outputs": [
    {
     "name": "stdout",
     "output_type": "stream",
     "text": [
      "30\n"
     ]
    }
   ],
   "source": [
    "sum2()"
   ]
  },
  {
   "cell_type": "code",
   "execution_count": 41,
   "id": "97a9f209-5727-417f-8af1-3ce800b730d8",
   "metadata": {},
   "outputs": [
    {
     "name": "stdout",
     "output_type": "stream",
     "text": [
      "410\n"
     ]
    }
   ],
   "source": [
    "sum2(b=400)"
   ]
  },
  {
   "cell_type": "code",
   "execution_count": 42,
   "id": "a86c89e1-7064-4364-ad9e-786d83babb6a",
   "metadata": {},
   "outputs": [
    {
     "name": "stdout",
     "output_type": "stream",
     "text": [
      "40000\n"
     ]
    }
   ],
   "source": [
    "sum2(b=39999,a=1)"
   ]
  },
  {
   "cell_type": "markdown",
   "id": "3144b159-1bdf-4016-a2cc-4fb15212e905",
   "metadata": {},
   "source": [
    "# positional argument"
   ]
  },
  {
   "cell_type": "code",
   "execution_count": 48,
   "id": "a033ecbb-9a7e-48e3-8e8f-9e6759e65f7e",
   "metadata": {},
   "outputs": [],
   "source": [
    "def sum3(a,b): #positional argument\n",
    "    print(a+b)"
   ]
  },
  {
   "cell_type": "code",
   "execution_count": 49,
   "id": "ef3cbfb6-f4f3-4cdb-af24-c0855fd76bf8",
   "metadata": {},
   "outputs": [
    {
     "name": "stdout",
     "output_type": "stream",
     "text": [
      "70\n"
     ]
    }
   ],
   "source": [
    "sum3(30,40)"
   ]
  },
  {
   "cell_type": "code",
   "execution_count": 50,
   "id": "a2e73044-8751-4658-96fd-a331e8ab84fd",
   "metadata": {},
   "outputs": [],
   "source": [
    "def sum4(a,b):\n",
    "    print(a+b)"
   ]
  },
  {
   "cell_type": "code",
   "execution_count": 52,
   "id": "eaac5835-42a5-4191-abe9-649823815924",
   "metadata": {},
   "outputs": [
    {
     "name": "stdout",
     "output_type": "stream",
     "text": [
      "50\n"
     ]
    }
   ],
   "source": [
    "sum4(b=44,a=6)"
   ]
  },
  {
   "cell_type": "markdown",
   "id": "b4c98f75-e4e6-4e11-922f-0163bf030c66",
   "metadata": {},
   "source": [
    "# arbitrary positional argument"
   ]
  },
  {
   "cell_type": "code",
   "execution_count": 53,
   "id": "88d8a731-f34b-43c1-9bd7-227eb7940b0a",
   "metadata": {},
   "outputs": [],
   "source": [
    "a=10,30,40,50"
   ]
  },
  {
   "cell_type": "code",
   "execution_count": 54,
   "id": "f32c2981-f53e-402f-986d-02b161cc0063",
   "metadata": {},
   "outputs": [
    {
     "name": "stdout",
     "output_type": "stream",
     "text": [
      "(10, 30, 40, 50)\n"
     ]
    }
   ],
   "source": [
    "print(a)"
   ]
  },
  {
   "cell_type": "code",
   "execution_count": 59,
   "id": "1a1669f1-096f-456b-9068-3551a40984f6",
   "metadata": {},
   "outputs": [],
   "source": [
    "def add5(*n):\n",
    "    k=0\n",
    "    for i in n:\n",
    "        k=k+i\n",
    "    print(k)"
   ]
  },
  {
   "cell_type": "code",
   "execution_count": 60,
   "id": "d9b143bb-5a25-490a-953f-8cd90d5363bb",
   "metadata": {},
   "outputs": [
    {
     "name": "stdout",
     "output_type": "stream",
     "text": [
      "43\n"
     ]
    }
   ],
   "source": [
    "add5(1,3,4,5,6,7,8,9)"
   ]
  },
  {
   "cell_type": "markdown",
   "id": "c7312d55-3dc3-4ed2-96fe-fb62ddb34552",
   "metadata": {},
   "source": [
    "# arbitrary keyword arguments  "
   ]
  },
  {
   "cell_type": "code",
   "execution_count": 62,
   "id": "6b9b0da5-c5c4-43ad-87ff-39411c2330f3",
   "metadata": {},
   "outputs": [],
   "source": [
    "def add6(**n):\n",
    "    print(n)"
   ]
  },
  {
   "cell_type": "code",
   "execution_count": 64,
   "id": "fa79cc39-a1a3-432d-a7a4-41acdd66159f",
   "metadata": {},
   "outputs": [
    {
     "name": "stdout",
     "output_type": "stream",
     "text": [
      "{'name': 'ammar', 'age': 22, 'weight': 59}\n"
     ]
    }
   ],
   "source": [
    "add6(name=\"ammar\",age=22,weight=59) #dictionary form"
   ]
  },
  {
   "cell_type": "code",
   "execution_count": 23,
   "id": "b34d8c73-e3b3-4a7a-b579-3478597bd226",
   "metadata": {},
   "outputs": [
    {
     "name": "stdout",
     "output_type": "stream",
     "text": [
      "\n"
     ]
    }
   ],
   "source": [
    "print()"
   ]
  },
  {
   "cell_type": "markdown",
   "id": "ff13deaa-f27e-4317-a77f-7921eba7c465",
   "metadata": {},
   "source": [
    "# return"
   ]
  },
  {
   "cell_type": "code",
   "execution_count": 12,
   "id": "30874133-01d7-4130-8bc9-62c8b079d90f",
   "metadata": {},
   "outputs": [],
   "source": [
    "def sum(a,b):\n",
    "    print(a+b)"
   ]
  },
  {
   "cell_type": "code",
   "execution_count": 13,
   "id": "b8e5952f-e301-4c07-9bb2-59b7b7439118",
   "metadata": {},
   "outputs": [
    {
     "name": "stdout",
     "output_type": "stream",
     "text": [
      "20\n",
      "i am ammar\n"
     ]
    }
   ],
   "source": [
    "z=sum(12,8)\n",
    "print(\"i am ammar\")"
   ]
  },
  {
   "cell_type": "code",
   "execution_count": 14,
   "id": "1177196b-8f69-48ae-a3b9-f56b168dc233",
   "metadata": {},
   "outputs": [
    {
     "name": "stdout",
     "output_type": "stream",
     "text": [
      "None\n"
     ]
    }
   ],
   "source": [
    "print(z)"
   ]
  },
  {
   "cell_type": "code",
   "execution_count": 15,
   "id": "5b594d47-07fa-4d49-a4c3-b8cefb30ce31",
   "metadata": {},
   "outputs": [
    {
     "name": "stdout",
     "output_type": "stream",
     "text": [
      "hello world\n",
      "None\n"
     ]
    }
   ],
   "source": [
    "print(print(\"hello world\"))"
   ]
  },
  {
   "cell_type": "code",
   "execution_count": 16,
   "id": "e98008b0-5195-409f-9ebc-2320b8ae84cc",
   "metadata": {},
   "outputs": [],
   "source": [
    "def sum(a,b):\n",
    "    return(a+b)"
   ]
  },
  {
   "cell_type": "code",
   "execution_count": 17,
   "id": "30df3301-30f1-4110-8db6-f4a47d340896",
   "metadata": {},
   "outputs": [
    {
     "name": "stdout",
     "output_type": "stream",
     "text": [
      "50\n",
      "hello world\n"
     ]
    }
   ],
   "source": [
    "print(sum(20,30))\n",
    "print(\"hello world\")"
   ]
  },
  {
   "cell_type": "code",
   "execution_count": 18,
   "id": "742a0486-fc44-4245-8dca-abdd0608f68d",
   "metadata": {},
   "outputs": [
    {
     "name": "stdin",
     "output_type": "stream",
     "text": [
      "enter 1st number: 70\n",
      "enter 2nd number: 80\n",
      "choose a valid operation out of +,-,/,*: +\n"
     ]
    },
    {
     "name": "stdout",
     "output_type": "stream",
     "text": [
      "150\n"
     ]
    }
   ],
   "source": [
    "num1=eval(input(\"enter 1st number:\"))\n",
    "num2=eval(input(\"enter 2nd number:\"))\n",
    "option=input(\"choose a valid operation out of +,-,/,*:\")\n",
    "if option==\"+\":\n",
    "    print(num1+num2)\n",
    "elif option==\"-\":\n",
    "    print(num1-num2)\n",
    "elif option==\"/\":\n",
    "    print(num1/num2)\n",
    "elif option==\"*\":\n",
    "    print(num1*num2)\n",
    "else:\n",
    "    print(\"kindly choose valid operatin\")"
   ]
  },
  {
   "cell_type": "code",
   "execution_count": 19,
   "id": "6f94b557-fd6f-4a5d-a40f-f244fb6f083d",
   "metadata": {},
   "outputs": [],
   "source": [
    "def calculator():\n",
    "    num1=eval(input(\"enter 1st number:\"))\n",
    "    num2=eval(input(\"enter 2nd number:\"))\n",
    "    option=input(\"choose a valid operation out of +,-,/,*:\")\n",
    "    if option==\"+\":\n",
    "        print(num1+num2)\n",
    "    elif option==\"-\":\n",
    "        print(num1-num2)\n",
    "    elif option==\"/\":\n",
    "        print(num1/num2)\n",
    "    elif option==\"*\":\n",
    "        print(num1*num2)\n",
    "    else:\n",
    "        print(\"kindly choose valid operation\")"
   ]
  },
  {
   "cell_type": "code",
   "execution_count": 23,
   "id": "3997c039-0a26-4542-b86b-7454fcadc04b",
   "metadata": {},
   "outputs": [
    {
     "name": "stdin",
     "output_type": "stream",
     "text": [
      "enter 1st number: 88\n",
      "enter 2nd number: 54\n",
      "choose a valid operation out of +,-,/,*: -\n"
     ]
    },
    {
     "name": "stdout",
     "output_type": "stream",
     "text": [
      "34\n"
     ]
    }
   ],
   "source": [
    "calculator()"
   ]
  },
  {
   "cell_type": "code",
   "execution_count": 18,
   "id": "34869521-a89e-4603-8a61-510bf7f10624",
   "metadata": {},
   "outputs": [
    {
     "name": "stdin",
     "output_type": "stream",
     "text": [
      "enter 1st number: 9\n",
      "enter 2nd number: 8\n",
      "choose a valid operation out of +,-,/,*: *\n"
     ]
    },
    {
     "name": "stdout",
     "output_type": "stream",
     "text": [
      "72\n"
     ]
    }
   ],
   "source": [
    "calculator()"
   ]
  },
  {
   "cell_type": "code",
   "execution_count": 19,
   "id": "d6219c90-061f-4398-99b2-4e2b3e85c0e5",
   "metadata": {},
   "outputs": [
    {
     "data": {
      "text/plain": [
       "70"
      ]
     },
     "execution_count": 19,
     "metadata": {},
     "output_type": "execute_result"
    }
   ],
   "source": [
    "100-30"
   ]
  },
  {
   "cell_type": "code",
   "execution_count": 2,
   "id": "7601d265-6d86-4790-b0cc-5a1251ea002b",
   "metadata": {},
   "outputs": [],
   "source": [
    "def calculator():\n",
    "    num1=eval(input(\"enter 1st number:\"))\n",
    "    num2=eval(input(\"enter 2nd number:\"))\n",
    "    option=input(\"choose valid operation out of +,-,/,*:\")\n",
    "    if option==\"+\":\n",
    "        result=(num1+num2)\n",
    "    elif option==\"-\":\n",
    "        result=(num1-num2)\n",
    "    elif option==\"/\":\n",
    "        result=(num1/num2)\n",
    "    elif option==\"*\":\n",
    "        result=(num1*num2)\n",
    "    else:\n",
    "        result=(\"you are chutiya\")\n",
    "    return result"
   ]
  },
  {
   "cell_type": "code",
   "execution_count": 3,
   "id": "56a59ee6-a479-499a-8c95-dd8ac86777f5",
   "metadata": {},
   "outputs": [
    {
     "name": "stdin",
     "output_type": "stream",
     "text": [
      "enter 1st number: 8\n",
      "enter 2nd number: 8\n",
      "choose valid operation out of +,-,/,*: +\n"
     ]
    },
    {
     "data": {
      "text/plain": [
       "16"
      ]
     },
     "execution_count": 3,
     "metadata": {},
     "output_type": "execute_result"
    }
   ],
   "source": [
    "x=calculator()"
   ]
  },
  {
   "cell_type": "code",
   "execution_count": 5,
   "id": "6dddeab1-7461-48ad-94fc-97a672175917",
   "metadata": {},
   "outputs": [
    {
     "name": "stdin",
     "output_type": "stream",
     "text": [
      "enter 1st number: 7\n",
      "enter 2nd number: 6\n",
      "choose valid operation out of +,-,/,*: +\n"
     ]
    }
   ],
   "source": [
    "y=calculator()"
   ]
  },
  {
   "cell_type": "code",
   "execution_count": 7,
   "id": "d85568b3-0d9d-4fa3-8917-a110678c5244",
   "metadata": {},
   "outputs": [
    {
     "data": {
      "text/plain": [
       "13"
      ]
     },
     "execution_count": 7,
     "metadata": {},
     "output_type": "execute_result"
    }
   ],
   "source": [
    "y"
   ]
  },
  {
   "cell_type": "code",
   "execution_count": 8,
   "id": "ac3df1f1-7695-4607-8a4c-8f8d9a7c4796",
   "metadata": {},
   "outputs": [
    {
     "name": "stdin",
     "output_type": "stream",
     "text": [
      "enter 1st number: 70\n",
      "enter 2nd number: 80\n",
      "choose valid operation out of +,-,/,*: -\n",
      "enter 1st number: 100\n",
      "enter 2nd number: 50\n",
      "choose valid operation out of +,-,/,*: -\n"
     ]
    },
    {
     "data": {
      "text/plain": [
       "-60"
      ]
     },
     "execution_count": 8,
     "metadata": {},
     "output_type": "execute_result"
    }
   ],
   "source": [
    "calculator()-calculator()"
   ]
  },
  {
   "cell_type": "code",
   "execution_count": 9,
   "id": "b3e81982-0e36-41d8-9d44-cff4d24793c3",
   "metadata": {},
   "outputs": [
    {
     "name": "stdin",
     "output_type": "stream",
     "text": [
      "enter 1st number: 90\n",
      "enter 2nd number: 60\n",
      "choose valid operation out of +,-,/,*: +\n",
      "enter 1st number: 100\n",
      "enter 2nd number: 50\n",
      "choose valid operation out of +,-,/,*: +\n"
     ]
    },
    {
     "data": {
      "text/plain": [
       "0"
      ]
     },
     "execution_count": 9,
     "metadata": {},
     "output_type": "execute_result"
    }
   ],
   "source": [
    "calculator()-calculator()"
   ]
  },
  {
   "cell_type": "code",
   "execution_count": 36,
   "id": "cb578a3c-0fad-46ee-83f4-6f8c1b870e12",
   "metadata": {},
   "outputs": [],
   "source": [
    "def travel(): #nested function\n",
    "    print(\"i am going to delhi\")"
   ]
  },
  {
   "cell_type": "code",
   "execution_count": 37,
   "id": "0f3a1bb3-a7b2-4b50-95a2-3b828f696259",
   "metadata": {},
   "outputs": [
    {
     "name": "stdout",
     "output_type": "stream",
     "text": [
      "i am going to delhi\n"
     ]
    }
   ],
   "source": [
    "travel()"
   ]
  },
  {
   "cell_type": "code",
   "execution_count": 38,
   "id": "f7f3c12a-96ac-49a8-b7a7-d0730ad409e4",
   "metadata": {},
   "outputs": [
    {
     "name": "stdout",
     "output_type": "stream",
     "text": [
      "i will go by car\n",
      "i am going to delhi\n"
     ]
    }
   ],
   "source": [
    "print(\"i will go by car\")\n",
    "travel()"
   ]
  },
  {
   "cell_type": "code",
   "execution_count": 39,
   "id": "4450ed42-fd5d-4cde-b976-e7ec1b686270",
   "metadata": {},
   "outputs": [],
   "source": [
    "def car(arg):\n",
    "    def inner():\n",
    "        print(\"i will go by car\")\n",
    "        arg()\n",
    "    return inner"
   ]
  },
  {
   "cell_type": "code",
   "execution_count": 40,
   "id": "a11bffe0-c7ac-4fb8-aa00-f1a7fa0b0ac5",
   "metadata": {},
   "outputs": [],
   "source": [
    "val=car(travel)"
   ]
  },
  {
   "cell_type": "code",
   "execution_count": 41,
   "id": "382c23a5-3968-4974-b6d5-6f5dc7d753e8",
   "metadata": {},
   "outputs": [
    {
     "name": "stdout",
     "output_type": "stream",
     "text": [
      "i will go by car\n",
      "i am going to delhi\n"
     ]
    }
   ],
   "source": [
    "val()"
   ]
  },
  {
   "cell_type": "markdown",
   "id": "552900c4-7ef3-40af-8847-f30c9fb09778",
   "metadata": {},
   "source": [
    "# decorator"
   ]
  },
  {
   "cell_type": "code",
   "execution_count": 24,
   "id": "7465c9a9-d08d-4a4b-81e1-218e01936de3",
   "metadata": {},
   "outputs": [],
   "source": [
    "def krishna(arg):\n",
    "    def inner():\n",
    "        print(\"i am sorry ammar\")\n",
    "        arg()\n",
    "    return inner()"
   ]
  },
  {
   "cell_type": "code",
   "execution_count": 25,
   "id": "165c776b-823c-4166-bd06-644f3e519fe4",
   "metadata": {},
   "outputs": [
    {
     "name": "stdout",
     "output_type": "stream",
     "text": [
      "i am sorry ammar\n",
      "ammar will not talk with krishna\n"
     ]
    }
   ],
   "source": [
    "@krishna\n",
    "def ammar():\n",
    "    print(\"ammar will not talk with krishna\")"
   ]
  },
  {
   "cell_type": "code",
   "execution_count": 54,
   "id": "6496e24a-daca-405a-86de-c28692120601",
   "metadata": {},
   "outputs": [],
   "source": [
    "def car(arg):\n",
    "    def inner():\n",
    "        print(\"i will go by car\")\n",
    "        arg()\n",
    "    return inner()"
   ]
  },
  {
   "cell_type": "code",
   "execution_count": 55,
   "id": "62567c10-17f4-4528-8b47-7ceb295157d7",
   "metadata": {},
   "outputs": [
    {
     "name": "stdout",
     "output_type": "stream",
     "text": [
      "i will go by car\n",
      "i am going delhi\n"
     ]
    }
   ],
   "source": [
    "@car\n",
    "def delhi():\n",
    "    print(\"i am going delhi\")"
   ]
  },
  {
   "cell_type": "markdown",
   "id": "e12a852a-4fbb-4137-8a74-4584b402bb44",
   "metadata": {},
   "source": [
    "# genrator"
   ]
  },
  {
   "cell_type": "code",
   "execution_count": 4,
   "id": "b6ae0389-1831-414d-8cb5-cf2357d2dba3",
   "metadata": {},
   "outputs": [],
   "source": [
    "def counter():\n",
    "    yield 1\n",
    "    yield 2\n",
    "    yield 3\n",
    "    yield 4\n",
    "    yield 5"
   ]
  },
  {
   "cell_type": "code",
   "execution_count": 5,
   "id": "b4609d7c-7e74-4e25-b074-e2266a3537fe",
   "metadata": {},
   "outputs": [],
   "source": [
    "a=counter()"
   ]
  },
  {
   "cell_type": "code",
   "execution_count": 6,
   "id": "dabf9ee3-0ea0-4c97-9965-7bf0666e8f78",
   "metadata": {},
   "outputs": [
    {
     "data": {
      "text/plain": [
       "1"
      ]
     },
     "execution_count": 6,
     "metadata": {},
     "output_type": "execute_result"
    }
   ],
   "source": [
    "next(a)"
   ]
  },
  {
   "cell_type": "code",
   "execution_count": 7,
   "id": "8fae8456-4af5-450e-bb52-1afa5277fcf1",
   "metadata": {},
   "outputs": [
    {
     "data": {
      "text/plain": [
       "2"
      ]
     },
     "execution_count": 7,
     "metadata": {},
     "output_type": "execute_result"
    }
   ],
   "source": [
    "next(a)\n"
   ]
  },
  {
   "cell_type": "code",
   "execution_count": 8,
   "id": "685c95c1-d68a-4c19-a2cd-726ef0968ca6",
   "metadata": {},
   "outputs": [
    {
     "data": {
      "text/plain": [
       "3"
      ]
     },
     "execution_count": 8,
     "metadata": {},
     "output_type": "execute_result"
    }
   ],
   "source": [
    "next(a)"
   ]
  },
  {
   "cell_type": "code",
   "execution_count": 9,
   "id": "851916f0-bb52-4782-bca2-36721d16dc84",
   "metadata": {},
   "outputs": [
    {
     "data": {
      "text/plain": [
       "4"
      ]
     },
     "execution_count": 9,
     "metadata": {},
     "output_type": "execute_result"
    }
   ],
   "source": [
    "next(a)"
   ]
  },
  {
   "cell_type": "code",
   "execution_count": 11,
   "id": "cb338093-def1-4fb6-9e25-160bc46fd949",
   "metadata": {},
   "outputs": [
    {
     "data": {
      "text/plain": [
       "5"
      ]
     },
     "execution_count": 11,
     "metadata": {},
     "output_type": "execute_result"
    }
   ],
   "source": [
    "next(a)"
   ]
  },
  {
   "cell_type": "code",
   "execution_count": null,
   "id": "6da9dd19-c989-43d1-8fef-f83f490a2803",
   "metadata": {},
   "outputs": [],
   "source": []
  }
 ],
 "metadata": {
  "kernelspec": {
   "display_name": "Python 3 (ipykernel)",
   "language": "python",
   "name": "python3"
  },
  "language_info": {
   "codemirror_mode": {
    "name": "ipython",
    "version": 3
   },
   "file_extension": ".py",
   "mimetype": "text/x-python",
   "name": "python",
   "nbconvert_exporter": "python",
   "pygments_lexer": "ipython3",
   "version": "3.11.4"
  }
 },
 "nbformat": 4,
 "nbformat_minor": 5
}
