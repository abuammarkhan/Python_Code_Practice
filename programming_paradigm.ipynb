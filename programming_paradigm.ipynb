{
 "cells": [
  {
   "cell_type": "markdown",
   "id": "5b208437-0d5a-46a4-9038-9eb78097c3c4",
   "metadata": {},
   "source": [
    "#programming paradigm\n",
    "\n",
    "    > top line programming\n",
    "\n",
    "    > procedural programming/functional programming\n",
    "\n",
    "    > oops"
   ]
  },
  {
   "cell_type": "code",
   "execution_count": 3,
   "id": "bcf2931b-129f-4894-baf3-05890eb2cfcd",
   "metadata": {},
   "outputs": [
    {
     "name": "stdout",
     "output_type": "stream",
     "text": [
      "30\n"
     ]
    }
   ],
   "source": [
    "  #top line programming\n",
    "a=10\n",
    "b=20\n",
    "print(a+b)"
   ]
  },
  {
   "cell_type": "code",
   "execution_count": 4,
   "id": "5ab9f5da-a315-4b96-8679-b07decee62e0",
   "metadata": {},
   "outputs": [],
   "source": [
    "  #procedural programming/functional programming\n",
    "def add(a,b):\n",
    "    print(a+b)\n"
   ]
  },
  {
   "cell_type": "code",
   "execution_count": 6,
   "id": "52c9e398-4b8f-4700-be38-f7f9e57d62c5",
   "metadata": {},
   "outputs": [
    {
     "name": "stdout",
     "output_type": "stream",
     "text": [
      "44\n"
     ]
    }
   ],
   "source": [
    "add(22,22)"
   ]
  },
  {
   "cell_type": "code",
   "execution_count": 9,
   "id": "00c79a06-c05f-414e-a7dd-b9d597c85f1a",
   "metadata": {},
   "outputs": [],
   "source": [
    "#object oriented programming\n",
    "class abc:\n",
    "    def add(self,a,b):\n",
    "        print(a+b)\n",
    "    "
   ]
  },
  {
   "cell_type": "code",
   "execution_count": 10,
   "id": "7e6a8846-8281-4c19-a76e-c5321a051114",
   "metadata": {},
   "outputs": [],
   "source": [
    "a=abc()"
   ]
  },
  {
   "cell_type": "code",
   "execution_count": 11,
   "id": "fbfa5e9d-a538-4073-9f60-cb685b4a720c",
   "metadata": {},
   "outputs": [
    {
     "name": "stdout",
     "output_type": "stream",
     "text": [
      "40\n"
     ]
    }
   ],
   "source": [
    "a.add(10,30)"
   ]
  },
  {
   "cell_type": "code",
   "execution_count": 12,
   "id": "6a5b2801-e87d-448e-9a94-d09d070c89f8",
   "metadata": {},
   "outputs": [
    {
     "name": "stdout",
     "output_type": "stream",
     "text": [
      "<class '__main__.abc'>\n"
     ]
    }
   ],
   "source": [
    "print(type(a))"
   ]
  },
  {
   "cell_type": "code",
   "execution_count": 13,
   "id": "1a7eccba-39d3-45b9-9e12-a7647ef41774",
   "metadata": {},
   "outputs": [],
   "source": [
    "a=78"
   ]
  },
  {
   "cell_type": "code",
   "execution_count": 14,
   "id": "fa1da109-1b06-4088-a269-6e0e31fb7386",
   "metadata": {},
   "outputs": [
    {
     "name": "stdout",
     "output_type": "stream",
     "text": [
      "<class 'int'>\n"
     ]
    }
   ],
   "source": [
    "print(type(a))"
   ]
  },
  {
   "cell_type": "code",
   "execution_count": null,
   "id": "acf011a9-0d95-4229-9635-7210b9d7005a",
   "metadata": {},
   "outputs": [],
   "source": []
  }
 ],
 "metadata": {
  "kernelspec": {
   "display_name": "Python 3 (ipykernel)",
   "language": "python",
   "name": "python3"
  },
  "language_info": {
   "codemirror_mode": {
    "name": "ipython",
    "version": 3
   },
   "file_extension": ".py",
   "mimetype": "text/x-python",
   "name": "python",
   "nbconvert_exporter": "python",
   "pygments_lexer": "ipython3",
   "version": "3.11.4"
  }
 },
 "nbformat": 4,
 "nbformat_minor": 5
}
