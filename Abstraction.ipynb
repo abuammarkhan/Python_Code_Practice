{
 "cells": [
  {
   "cell_type": "markdown",
   "id": "da470f41-876e-4c6b-a515-2e3df6eced8e",
   "metadata": {},
   "source": [
    "# Abstraction class is called blueprint of a class"
   ]
  },
  {
   "cell_type": "raw",
   "id": "71806400-b0ed-475f-afc3-e6b270db6813",
   "metadata": {},
   "source": [
    "Two type of class:\n",
    "\n",
    "Concreat calss:\n",
    "    > A class whose object creation or instanciation is possible.\n",
    "\n",
    "Abstract class:\n",
    "    > A class whose object creation or instanciation is not possible.\n",
    "\n",
    "How to creat a abstract class.\n",
    "\n",
    "Rule1: from module abc import ABC class and @abstractmethod decorator\n",
    "\n",
    "Rule2: inherite ABC as parent class inside a child class, for example: class Xyz(ABC)\n",
    "\n",
    "Rule3: At least on method must be abstract method.()"
   ]
  },
  {
   "cell_type": "code",
   "execution_count": 51,
   "id": "0e778ecf-b413-4212-b5ed-a44f4a8dfb24",
   "metadata": {},
   "outputs": [],
   "source": [
    "from abc import ABC,abstractmethod \n",
    "class Xyz(ABC):\n",
    "    @abstractmethod\n",
    "    def register(self):\n",
    "        pass\n",
    "    @abstractmethod\n",
    "    def login(self):\n",
    "        pass"
   ]
  },
  {
   "cell_type": "code",
   "execution_count": 60,
   "id": "e1f0b808-dcbd-4813-9989-fcab69d9e110",
   "metadata": {},
   "outputs": [],
   "source": [
    "class Xyz_krishna(Xyz):\n",
    "    def register(self):\n",
    "        name=input(\"Enter your name:\")\n",
    "        age=input(\"Enter your age:\")\n",
    "        print(\"you are sucessfully registered\")\n",
    "    def login(self):\n",
    "        pass"
   ]
  },
  {
   "cell_type": "code",
   "execution_count": 61,
   "id": "a1343fc6-bf60-4636-bc65-0a4918a8ebb2",
   "metadata": {},
   "outputs": [],
   "source": [
    "krishna=Xyz_krishna()"
   ]
  },
  {
   "cell_type": "code",
   "execution_count": 63,
   "id": "f0acf096-5c84-4b46-b417-d3322a849ab8",
   "metadata": {},
   "outputs": [
    {
     "name": "stdin",
     "output_type": "stream",
     "text": [
      "Enter your name: Ammar Khan\n",
      "Enter your age: 22\n"
     ]
    },
    {
     "name": "stdout",
     "output_type": "stream",
     "text": [
      "you are sucessfully registered\n"
     ]
    }
   ],
   "source": [
    "krishna.register()"
   ]
  },
  {
   "cell_type": "code",
   "execution_count": 67,
   "id": "af7175ed-2763-4ce8-89a3-071da659e2cf",
   "metadata": {},
   "outputs": [],
   "source": [
    "class Xyz_krishna(Xyz):\n",
    "    def register(self):\n",
    "        name=input(\"Enter your name:\")\n",
    "        age=input(\"Enter your age:\")\n",
    "        print(\"you are sucessfully registered\")\n",
    "    def login(self):\n",
    "        pass"
   ]
  },
  {
   "cell_type": "code",
   "execution_count": 68,
   "id": "b1e636ec-b2cc-4e7a-bc2c-0079deef52f4",
   "metadata": {},
   "outputs": [],
   "source": [
    "Rohan=Xyz_rohan()"
   ]
  },
  {
   "cell_type": "code",
   "execution_count": 70,
   "id": "f30bc55b-f0d0-49d0-b884-875dc1a0634b",
   "metadata": {},
   "outputs": [
    {
     "name": "stdin",
     "output_type": "stream",
     "text": [
      "Enter your name: Ammar Khan\n",
      "Enter your pasword: 22\n"
     ]
    },
    {
     "name": "stdout",
     "output_type": "stream",
     "text": [
      "logged in\n"
     ]
    }
   ],
   "source": [
    "Rohan.login()"
   ]
  },
  {
   "cell_type": "markdown",
   "id": "8deb0fc5-9372-49df-b394-c3228bdffba7",
   "metadata": {},
   "source": [
    "# after project completion"
   ]
  },
  {
   "cell_type": "code",
   "execution_count": null,
   "id": "2d29578e-8c09-4251-8094-f8717490c16a",
   "metadata": {},
   "outputs": [],
   "source": [
    "class Xyz(ABC):\n",
    "    def register(self):\n",
    "        name=input(\"Enter your name:\")\n",
    "        age=input(\"Enter your age:\")\n",
    "        print(\"you are sucessfully registered\")\n",
    "    def login(self):\n",
    "        name=input(\"Enter your name:\")\n",
    "        age=input(\"Enter your age:\")\n",
    "        print(\"you are sucessfully registered\")"
   ]
  },
  {
   "cell_type": "code",
   "execution_count": null,
   "id": "9388e9ef-c335-4824-adfd-83241e456632",
   "metadata": {},
   "outputs": [],
   "source": [
    "class Xyz_krishna(Xyz):\n",
    "    def register(self):\n",
    "       class Xyz_krishna(Xyz):\n",
    "    def register(self):\n",
    "        name=input(\"Enter your name:\")\n",
    "        age=input(\"Enter your age:\")\n",
    "        print(\"you are sucessfully registered\")\n",
    "    def login(self):\n",
    "        name=input(\"Enter your name:\")\n",
    "        age=input(\"Enter your age:\")\n",
    "        print(\"you are sucessfully registered\")\n",
    "    def login(self):\n",
    "        pass"
   ]
  },
  {
   "cell_type": "code",
   "execution_count": null,
   "id": "eb356920-9bbb-4d8f-9e89-9c083db4cca6",
   "metadata": {},
   "outputs": [],
   "source": [
    "class Xyz_krishna(Xyz):\n",
    "    def register(self):\n",
    "        name=input(\"Enter your name:\")\n",
    "        age=input(\"Enter your age:\")\n",
    "        print(\"you are sucessfully registered\")\n",
    "    def login(self):\n",
    "        pass"
   ]
  },
  {
   "cell_type": "code",
   "execution_count": null,
   "id": "bd62d559-2996-4c7c-b65a-073753285663",
   "metadata": {},
   "outputs": [],
   "source": []
  },
  {
   "cell_type": "code",
   "execution_count": 78,
   "id": "14a2366d-0ede-4c2b-9dcc-20eb461f73e9",
   "metadata": {},
   "outputs": [],
   "source": [
    "class Xyz:\n",
    "    def register(self):\n",
    "        name=input(\"Enter your name:\")\n",
    "        age=input(\"Enter your age:\")\n",
    "        print(\"you are sucessfully registered\")\n",
    "    def login(self):\n",
    "        name=input(\"Enter your name:\")\n",
    "        age=input(\"Enter your age:\")\n",
    "        print(\"logged in\")"
   ]
  },
  {
   "cell_type": "code",
   "execution_count": 79,
   "id": "72425c4a-f635-4db9-9654-1361c7a3063a",
   "metadata": {},
   "outputs": [],
   "source": [
    "Zomato=Xyz()"
   ]
  },
  {
   "cell_type": "code",
   "execution_count": 81,
   "id": "514d3ee7-38fe-43ea-91ba-c3f0974fba46",
   "metadata": {},
   "outputs": [
    {
     "name": "stdin",
     "output_type": "stream",
     "text": [
      "Enter your name: Ammar Khan\n",
      "Enter your age: 33\n"
     ]
    },
    {
     "name": "stdout",
     "output_type": "stream",
     "text": [
      "you are sucessfully registered\n"
     ]
    }
   ],
   "source": [
    "Zomato.register()"
   ]
  },
  {
   "cell_type": "code",
   "execution_count": 82,
   "id": "6991644f-607b-441c-94e6-6dbfe0d5707e",
   "metadata": {},
   "outputs": [
    {
     "name": "stdin",
     "output_type": "stream",
     "text": [
      "Enter your name: rupesh\n",
      "Enter your age: sadsffshd\n"
     ]
    },
    {
     "name": "stdout",
     "output_type": "stream",
     "text": [
      "logged in\n"
     ]
    }
   ],
   "source": [
    "Zomato.login()"
   ]
  },
  {
   "cell_type": "code",
   "execution_count": 3,
   "id": "1571b09f-7264-4a48-9e94-d51f84f6b348",
   "metadata": {},
   "outputs": [],
   "source": [
    "from abc import ABC,abstractmethod \n",
    "class Xyz(ABC):\n",
    "    @abstractmethod\n",
    "    def register(self):\n",
    "        pass\n",
    "    @abstractmethod\n",
    "    def login(self):\n",
    "        pass"
   ]
  },
  {
   "cell_type": "code",
   "execution_count": 7,
   "id": "56d95d74-c020-47bb-8456-f9ba47145e5d",
   "metadata": {},
   "outputs": [
    {
     "ename": "IndentationError",
     "evalue": "expected an indented block after function definition on line 3 (1048347820.py, line 4)",
     "output_type": "error",
     "traceback": [
      "\u001b[1;36m  Cell \u001b[1;32mIn[7], line 4\u001b[1;36m\u001b[0m\n\u001b[1;33m    @abstractmethod\u001b[0m\n\u001b[1;37m    ^\u001b[0m\n\u001b[1;31mIndentationError\u001b[0m\u001b[1;31m:\u001b[0m expected an indented block after function definition on line 3\n"
     ]
    }
   ],
   "source": [
    "from abc import ABC,abstractmethod\n",
    "class Xyz(ABC):\n",
    "    def register(ABC):\n",
    "    @abstractmethod\n",
    "    def register(self):\n",
    "        pass\n",
    "    @abstrsctmethod\n",
    "    def login(self):\n",
    "        pass"
   ]
  },
  {
   "cell_type": "code",
   "execution_count": 1,
   "id": "1a3fcbf9-f1b0-4440-b3a3-c894d1e8eb60",
   "metadata": {},
   "outputs": [
    {
     "ename": "IndentationError",
     "evalue": "expected an indented block after class definition on line 3 (1258100729.py, line 4)",
     "output_type": "error",
     "traceback": [
      "\u001b[1;36m  Cell \u001b[1;32mIn[1], line 4\u001b[1;36m\u001b[0m\n\u001b[1;33m    def register(self):\u001b[0m\n\u001b[1;37m    ^\u001b[0m\n\u001b[1;31mIndentationError\u001b[0m\u001b[1;31m:\u001b[0m expected an indented block after class definition on line 3\n"
     ]
    }
   ],
   "source": [
    "class Xyz_krishna(Xyz):\n",
    "    def register(self):\n",
    "       class Xyz_krishna(Xyz):\n",
    "    def register(self):\n",
    "        name=input(\"Enter your name:\")\n",
    "        age=input(\"Enter your age:\")\n",
    "        print(\"you are sucessfully registered\")\n",
    "    def login(self):\n",
    "        name=input(\"Enter your name:\")\n",
    "        age=input(\"Enter your age:\")\n",
    "        print(\"you are sucessfully registered\")\n",
    "    def login(self):\n",
    "        pass\n",
    "    class Xyz_krishna(Xyz):\n",
    "    def register(self):\n",
    "        name=input(\"Enter your name:\")\n",
    "        age=input(\"Enter your age:\")\n",
    "        print(\"you are sucessfully registered\")\n",
    "    def login(self):\n",
    "        pass\n",
    "    class Xyz:\n",
    "    def register(self):\n",
    "        name=input(\"Enter your name:\")\n",
    "        age=input(\"Enter your age:\")\n",
    "        print(\"you are sucessfully registered\")\n",
    "    def login(self):\n",
    "        name=input(\"Enter your name:\")\n",
    "        age=input(\"Enter your age:\")\n",
    "        print(\"logged in\")\n",
    "    from abc import ABC,abstractmethod \n",
    "    class Xyz(ABC):\n",
    "    @abstractmethod\n",
    "    def register(self):\n",
    "        pass\n",
    "    @abstractmethod\n",
    "    def login(self):\n",
    "        pass"
   ]
  },
  {
   "cell_type": "code",
   "execution_count": null,
   "id": "5de8aff4-8292-44d5-a0ad-b973acfb6605",
   "metadata": {},
   "outputs": [],
   "source": []
  }
 ],
 "metadata": {
  "kernelspec": {
   "display_name": "Python 3 (ipykernel)",
   "language": "python",
   "name": "python3"
  },
  "language_info": {
   "codemirror_mode": {
    "name": "ipython",
    "version": 3
   },
   "file_extension": ".py",
   "mimetype": "text/x-python",
   "name": "python",
   "nbconvert_exporter": "python",
   "pygments_lexer": "ipython3",
   "version": "3.11.4"
  }
 },
 "nbformat": 4,
 "nbformat_minor": 5
}
