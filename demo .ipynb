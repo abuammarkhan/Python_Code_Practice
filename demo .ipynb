{
 "cells": [
  {
   "cell_type": "code",
   "execution_count": 12,
   "id": "a915d926-22b2-4c8c-8fb8-34219337bb93",
   "metadata": {},
   "outputs": [
    {
     "name": "stdout",
     "output_type": "stream",
     "text": [
      "hello world\n",
      "hello world\n",
      "hello world\n",
      "hello world\n",
      "hello world\n"
     ]
    }
   ],
   "source": [
    "print(\"hello world\")\n",
    "print(\"hello world\")\n",
    "print(\"hello world\")\n",
    "print(\"hello world\")\n",
    "print(\"hello world\")"
   ]
  },
  {
   "cell_type": "code",
   "execution_count": 17,
   "id": "75624117-b095-4b0d-ab69-705c93da961b",
   "metadata": {},
   "outputs": [
    {
     "name": "stdout",
     "output_type": "stream",
     "text": [
      "Enter your age: 14\n"
     ]
    },
    {
     "name": "stdout",
     "output_type": "stream",
     "text": [
      "I will give you cycle\n"
     ]
    }
   ],
   "source": [
    "age=int(input(\"Enter your age:\"))\n",
    "if age>0 and age<=18:\n",
    "    if age>0 and age<=5:\n",
    "        print(\"I will give you choclate\") \n",
    "    elif age>5 and age <=15:\n",
    "        print(\"I will give you cycle\")\n",
    "    else:\n",
    "        print (\"I will give you a book\")\n",
    "elif age>18 and age<=50:\n",
    "    print(\"I will give you car\")\n",
    "elif age>60 and age<=149:\n",
    "    print(\"I will give you poison\")\n",
    "else:\n",
    "    print(\"I will give you poison\")\n",
    "        "
   ]
  },
  {
   "cell_type": "code",
   "execution_count": 35,
   "id": "2664f7f9-ce22-4fab-b1e5-b66872d655e2",
   "metadata": {},
   "outputs": [
    {
     "name": "stdout",
     "output_type": "stream",
     "text": [
      "Enter your age: 99\n"
     ]
    },
    {
     "name": "stdout",
     "output_type": "stream",
     "text": [
      "I will give you simple wife\n"
     ]
    }
   ],
   "source": [
    "age=int(input(\"Enter your age:\"))\n",
    "if age>0 and age<=18:\n",
    "    if age>0 and age<=5:\n",
    "        print(\"I will give you choclate\") \n",
    "    elif age>5 and age <=15:\n",
    "        print(\"I will give you cycle\")\n",
    "    else:\n",
    "        print (\"I will give you a book\")\n",
    "elif age>18 and age<=50:\n",
    "    print(\"I will give you car\")\n",
    "elif age>50 and age<=149:\n",
    "    print(\"I will give you simple wife\")\n",
    "elif age>149 and age<=199:\n",
    "    print(\"I will give you poison\")\n",
    "else:\n",
    "    print(\"I will give you poison\")"
   ]
  },
  {
   "cell_type": "code",
   "execution_count": 47,
   "id": "10a97d8c-2136-4d9e-988f-fb5e6228534e",
   "metadata": {},
   "outputs": [
    {
     "name": "stdout",
     "output_type": "stream",
     "text": [
      "Enter your age: 6767\n"
     ]
    },
    {
     "name": "stdout",
     "output_type": "stream",
     "text": [
      "I will give you narak\n"
     ]
    }
   ],
   "source": [
    "age=int(input(\"Enter your age:\"))\n",
    "if age>0 and age<=18:\n",
    "    if age>0 and age<=5:\n",
    "        print(\"I will give you choclate\") \n",
    "    elif age>5 and age <=15:\n",
    "        print(\"I will give you cycle\")\n",
    "    else:\n",
    "        print (\"I will give you a book\")\n",
    "elif age>18 and age<=50:\n",
    "    print(\"I will give you car\")\n",
    "elif age>50 and age<=149:\n",
    "    print(\"I will give you simple wife\")\n",
    "elif age>149 and age<=199:\n",
    "    print(\"I will give you poison\")\n",
    "else:\n",
    "    print(\"I will give you narak\")"
   ]
  },
  {
   "cell_type": "code",
   "execution_count": 49,
   "id": "5150fb16-e575-48d4-a980-0f6c252073d1",
   "metadata": {},
   "outputs": [
    {
     "name": "stdout",
     "output_type": "stream",
     "text": [
      "enter your destination goa\n"
     ]
    },
    {
     "name": "stdout",
     "output_type": "stream",
     "text": [
      "I am going to goa\n"
     ]
    }
   ],
   "source": [
    "Ammar=input(\"enter your destination\")\n",
    "if Ammar==\"goa\":\n",
    "    print(\"I am going to goa\")\n",
    "else:\n",
    "    print(\"going to lucknow\")"
   ]
  },
  {
   "cell_type": "code",
   "execution_count": 53,
   "id": "549e62f1-addd-4a09-a06a-7e8d73aa2cd8",
   "metadata": {},
   "outputs": [
    {
     "ename": "NameError",
     "evalue": "name 'user' is not defined",
     "output_type": "error",
     "traceback": [
      "\u001b[1;31m---------------------------------------------------------------------------\u001b[0m",
      "\u001b[1;31mNameError\u001b[0m                                 Traceback (most recent call last)",
      "Cell \u001b[1;32mIn[53], line 1\u001b[0m\n\u001b[1;32m----> 1\u001b[0m \u001b[38;5;28mprint\u001b[39m(\u001b[38;5;124m\"\u001b[39m\u001b[38;5;124mI am going to goa\u001b[39m\u001b[38;5;124m\"\u001b[39m) \u001b[38;5;28;01mif\u001b[39;00m \u001b[43muser\u001b[49m\u001b[38;5;241m==\u001b[39m\u001b[38;5;124m\"\u001b[39m\u001b[38;5;124mgoa\u001b[39m\u001b[38;5;124m\"\u001b[39m \u001b[38;5;28;01melse\u001b[39;00m \u001b[38;5;28mprint\u001b[39m(\u001b[38;5;124m\"\u001b[39m\u001b[38;5;124mgoing to lucknow\u001b[39m\u001b[38;5;124m\"\u001b[39m)\n",
      "\u001b[1;31mNameError\u001b[0m: name 'user' is not defined"
     ]
    }
   ],
   "source": [
    "print(\"I am going to goa\") if user==\"goa\" else print(\"going to lucknow\")"
   ]
  },
  {
   "cell_type": "code",
   "execution_count": 5,
   "id": "4ca0744f-dc1f-4d5a-8034-89fb9ada41b9",
   "metadata": {},
   "outputs": [
    {
     "name": "stdout",
     "output_type": "stream",
     "text": [
      "a is greater than b\n"
     ]
    }
   ],
   "source": [
    "a=39\n",
    "b=38\n",
    "if b>a:\n",
    "    print(\"b is greater than a\")\n",
    "elif a==b:\n",
    "    print(\"a and b are equal\")\n",
    "else:\n",
    "    print(\"a is greater than b\")"
   ]
  },
  {
   "cell_type": "code",
   "execution_count": 7,
   "id": "6e53fc75-3c82-4a21-93ee-ccbe6f02d80c",
   "metadata": {},
   "outputs": [
    {
     "name": "stdout",
     "output_type": "stream",
     "text": [
      "b\n"
     ]
    }
   ],
   "source": [
    "a=7\n",
    "b=90\n",
    "print(\"a\") if a>b else print(\"b\")"
   ]
  },
  {
   "cell_type": "code",
   "execution_count": null,
   "id": "e52c9e85-c951-4487-a9dc-f2468b48ace2",
   "metadata": {},
   "outputs": [],
   "source": []
  }
 ],
 "metadata": {
  "kernelspec": {
   "display_name": "Python 3 (ipykernel)",
   "language": "python",
   "name": "python3"
  },
  "language_info": {
   "codemirror_mode": {
    "name": "ipython",
    "version": 3
   },
   "file_extension": ".py",
   "mimetype": "text/x-python",
   "name": "python",
   "nbconvert_exporter": "python",
   "pygments_lexer": "ipython3",
   "version": "3.11.4"
  }
 },
 "nbformat": 4,
 "nbformat_minor": 5
}
