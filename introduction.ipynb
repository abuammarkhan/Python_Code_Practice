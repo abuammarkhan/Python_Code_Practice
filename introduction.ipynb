{
 "cells": [
  {
   "cell_type": "markdown",
   "id": "35e8dd23-d8a5-4ca6-8c4e-2a10f5a0e7aa",
   "metadata": {},
   "source": [
    "#comment\n",
    "\n",
    "> use as marker\n",
    "\n",
    "> to test our code "
   ]
  },
  {
   "cell_type": "code",
   "execution_count": 8,
   "id": "5a0a4627-f7f8-489b-991e-4107e775f3b6",
   "metadata": {},
   "outputs": [
    {
     "name": "stdout",
     "output_type": "stream",
     "text": [
      "hello world\n",
      "is used to echo something on screen/ console\n"
     ]
    }
   ],
   "source": [
    "print(\"hello world\") # print() is used to echo something on screen/ console \n",
    "print(\"is used to echo something on screen/ console\") "
   ]
  },
  {
   "cell_type": "code",
   "execution_count": 10,
   "id": "f89921fc-cb0b-48f6-9fc3-9decbdbb049e",
   "metadata": {},
   "outputs": [
    {
     "name": "stdout",
     "output_type": "stream",
     "text": [
      "hello world\n",
      "hello world\n",
      "hello world\n",
      "hello world\n"
     ]
    }
   ],
   "source": [
    "print(\"hello world\")\n",
    "print('hello world')\n",
    "print('''hello world''')\n",
    "print (\"\"\"hello world\"\"\")"
   ]
  },
  {
   "cell_type": "code",
   "execution_count": 16,
   "id": "347e1b55-95be-4585-8e88-75dc6b68c467",
   "metadata": {},
   "outputs": [
    {
     "name": "stdout",
     "output_type": "stream",
     "text": [
      "hello world\n",
      "hello world\n",
      "hello world\n",
      "hello world\n"
     ]
    }
   ],
   "source": [
    "print(\"hello world\")\n",
    "print('hello world')\n",
    "print('''hello world''')\n",
    "print (\"\"\"hello world\"\"\")"
   ]
  },
  {
   "cell_type": "code",
   "execution_count": 20,
   "id": "f21d2232-dd77-40c0-9ff4-00c38917aed6",
   "metadata": {},
   "outputs": [
    {
     "name": "stdout",
     "output_type": "stream",
     "text": [
      "hello world\n"
     ]
    }
   ],
   "source": [
    "(\"\"\" this is ammar\n",
    "i am in BCA final year\n",
    "\n",
    "preparing for MCA \"\"\")\n",
    "print(\"hello world\")"
   ]
  },
  {
   "cell_type": "code",
   "execution_count": 21,
   "id": "0f2d7784-46c7-460b-bcd2-4aa56ae4e691",
   "metadata": {},
   "outputs": [],
   "source": [
    "#python me single line comment hota hai ek bar me ek line comment kr skte ho multi line nahi "
   ]
  },
  {
   "cell_type": "code",
   "execution_count": null,
   "id": "12b91038-df69-4a3b-8373-4491b0fb7347",
   "metadata": {},
   "outputs": [],
   "source": [
    "print(\"\"\" this is ammar\n",
    "i am in BCA final year\n",
    "\n",
    "preparing for MCA \"\"\")\n",
    "print(\"hello world\")"
   ]
  },
  {
   "cell_type": "code",
   "execution_count": 23,
   "id": "73857bcb-119b-473b-bbee-9369ee51b02b",
   "metadata": {},
   "outputs": [],
   "source": [
    "#this is ammar \n",
    "# triple cote hme allowed krta hai multiple line me likhne ka\n",
    "# python me single line comment system hota hai"
   ]
  },
  {
   "cell_type": "code",
   "execution_count": 25,
   "id": "99d7109a-5e8f-429e-933c-e9d866812eca",
   "metadata": {},
   "outputs": [],
   "source": []
  },
  {
   "cell_type": "code",
   "execution_count": null,
   "id": "7dd76004-6409-4672-b614-348370538ed9",
   "metadata": {},
   "outputs": [],
   "source": []
  }
 ],
 "metadata": {
  "kernelspec": {
   "display_name": "Python 3 (ipykernel)",
   "language": "python",
   "name": "python3"
  },
  "language_info": {
   "codemirror_mode": {
    "name": "ipython",
    "version": 3
   },
   "file_extension": ".py",
   "mimetype": "text/x-python",
   "name": "python",
   "nbconvert_exporter": "python",
   "pygments_lexer": "ipython3",
   "version": "3.11.4"
  }
 },
 "nbformat": 4,
 "nbformat_minor": 5
}
