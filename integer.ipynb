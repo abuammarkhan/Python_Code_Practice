{
 "cells": [
  {
   "cell_type": "markdown",
   "id": "3d68c856-8e4e-4505-87e6-e4bbe48c47c0",
   "metadata": {},
   "source": [
    "#integer\n",
    "\n",
    "> integer constructor is int()\n",
    "\n",
    "> integer litral is 0\n",
    "\n",
    "> 0,1,2,3,4,5,6,7,8,9\n",
    "\n",
    "> integer base is 10 "
   ]
  },
  {
   "cell_type": "code",
   "execution_count": null,
   "id": "f1ae7097-e682-4485-b5e6-0bacdf7f9006",
   "metadata": {},
   "outputs": [],
   "source": []
  }
 ],
 "metadata": {
  "kernelspec": {
   "display_name": "Python 3 (ipykernel)",
   "language": "python",
   "name": "python3"
  },
  "language_info": {
   "codemirror_mode": {
    "name": "ipython",
    "version": 3
   },
   "file_extension": ".py",
   "mimetype": "text/x-python",
   "name": "python",
   "nbconvert_exporter": "python",
   "pygments_lexer": "ipython3",
   "version": "3.11.4"
  }
 },
 "nbformat": 4,
 "nbformat_minor": 5
}
