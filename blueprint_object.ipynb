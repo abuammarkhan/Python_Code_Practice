{
 "cells": [
  {
   "cell_type": "raw",
   "id": "fddb28c0-d807-4c44-ac49-1c0447ed9071",
   "metadata": {},
   "source": [
    "> class\n",
    "        > class variables\n",
    "        > instance variables\n",
    "        > self keyword\n",
    "        > static methods\n",
    "        > class methods\n",
    "    > object\n",
    "    > encapsulation\n",
    "    > abstraction\n",
    "    > polymorphism\n",
    "    > inheritance"
   ]
  },
  {
   "cell_type": "code",
   "execution_count": 11,
   "id": "bc1af501-7fc3-4102-8529-08cb31be59ba",
   "metadata": {},
   "outputs": [],
   "source": [
    "class ATM:    #class k andr agr function bna rhe hai use method khte hai\n",
    "    def __init__(self):    #magic method hai ise hm constructer khte hai\n",
    "        self.pin=1111       #instance variables\n",
    "        self.balance=1000   #instance variables\n",
    "        print(\"this is constrocter\")"
   ]
  },
  {
   "cell_type": "code",
   "execution_count": 12,
   "id": "e0c1a435-f561-499c-8750-43364b98b7ad",
   "metadata": {},
   "outputs": [
    {
     "name": "stdout",
     "output_type": "stream",
     "text": [
      "this is constrocter\n"
     ]
    }
   ],
   "source": [
    "ammar_kotak=ATM()"
   ]
  },
  {
   "cell_type": "code",
   "execution_count": 13,
   "id": "d26a52b4-9b0d-44df-a0a0-1216b53944fa",
   "metadata": {},
   "outputs": [
    {
     "data": {
      "text/plain": [
       "1000"
      ]
     },
     "execution_count": 13,
     "metadata": {},
     "output_type": "execute_result"
    }
   ],
   "source": [
    "ammar_kotak.balance"
   ]
  },
  {
   "cell_type": "code",
   "execution_count": 14,
   "id": "397ae9d1-cbbf-48d8-bf18-f3a27dee2513",
   "metadata": {},
   "outputs": [
    {
     "data": {
      "text/plain": [
       "1111"
      ]
     },
     "execution_count": 14,
     "metadata": {},
     "output_type": "execute_result"
    }
   ],
   "source": [
    "ammar_kotak.pin"
   ]
  },
  {
   "cell_type": "code",
   "execution_count": 15,
   "id": "ffdb4ff9-cb10-424c-9820-28157cb3b921",
   "metadata": {},
   "outputs": [
    {
     "name": "stdout",
     "output_type": "stream",
     "text": [
      "this is constrocter\n"
     ]
    }
   ],
   "source": [
    "ammar_hdfc=ATM()"
   ]
  },
  {
   "cell_type": "code",
   "execution_count": 16,
   "id": "e136a15e-303d-4ad3-af83-88aa52fc0434",
   "metadata": {},
   "outputs": [
    {
     "data": {
      "text/plain": [
       "1111"
      ]
     },
     "execution_count": 16,
     "metadata": {},
     "output_type": "execute_result"
    }
   ],
   "source": [
    "ammar_hdfc.pin"
   ]
  },
  {
   "cell_type": "code",
   "execution_count": 17,
   "id": "0c7ef6c3-8aa4-49bb-8103-21f8de2d5688",
   "metadata": {},
   "outputs": [
    {
     "name": "stdout",
     "output_type": "stream",
     "text": [
      "this is constrocter\n"
     ]
    }
   ],
   "source": [
    "vipin=ATM()"
   ]
  },
  {
   "cell_type": "code",
   "execution_count": 20,
   "id": "18ca68c6-1ab2-405b-910c-cb75e2043405",
   "metadata": {},
   "outputs": [],
   "source": [
    "vipin.balance=2000"
   ]
  },
  {
   "cell_type": "code",
   "execution_count": 21,
   "id": "9b568d0b-1b8a-40d3-9995-d4c78e604ff5",
   "metadata": {},
   "outputs": [],
   "source": [
    "vipin.pin=3333"
   ]
  },
  {
   "cell_type": "code",
   "execution_count": 22,
   "id": "22b0505a-d832-4225-a7b6-bd6e11976c38",
   "metadata": {},
   "outputs": [
    {
     "data": {
      "text/plain": [
       "2000"
      ]
     },
     "execution_count": 22,
     "metadata": {},
     "output_type": "execute_result"
    }
   ],
   "source": [
    "vipin.balance"
   ]
  },
  {
   "cell_type": "code",
   "execution_count": 23,
   "id": "c0b2d25e-3287-45be-9ac6-e75b8e612102",
   "metadata": {},
   "outputs": [
    {
     "data": {
      "text/plain": [
       "3333"
      ]
     },
     "execution_count": 23,
     "metadata": {},
     "output_type": "execute_result"
    }
   ],
   "source": [
    "vipin.pin"
   ]
  },
  {
   "cell_type": "code",
   "execution_count": null,
   "id": "5084d1ee-4c55-48b3-87e4-0ace35a28360",
   "metadata": {},
   "outputs": [],
   "source": []
  }
 ],
 "metadata": {
  "kernelspec": {
   "display_name": "Python 3 (ipykernel)",
   "language": "python",
   "name": "python3"
  },
  "language_info": {
   "codemirror_mode": {
    "name": "ipython",
    "version": 3
   },
   "file_extension": ".py",
   "mimetype": "text/x-python",
   "name": "python",
   "nbconvert_exporter": "python",
   "pygments_lexer": "ipython3",
   "version": "3.11.4"
  }
 },
 "nbformat": 4,
 "nbformat_minor": 5
}
