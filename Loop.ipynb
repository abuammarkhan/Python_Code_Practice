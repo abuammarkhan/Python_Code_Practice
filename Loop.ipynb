{
 "cells": [
  {
   "cell_type": "code",
   "execution_count": 1,
   "id": "bff6b075-7c28-45d7-985a-b9ee3a8288d3",
   "metadata": {},
   "outputs": [
    {
     "data": {
      "text/plain": [
       "(1, 2, 3, 4, 5)"
      ]
     },
     "execution_count": 1,
     "metadata": {},
     "output_type": "execute_result"
    }
   ],
   "source": [
    "1,2,3,4,5,"
   ]
  },
  {
   "cell_type": "code",
   "execution_count": 2,
   "id": "35c40cb1-6f4f-43e5-bc41-a8c71b0ef92d",
   "metadata": {},
   "outputs": [
    {
     "data": {
      "text/plain": [
       "'1<'"
      ]
     },
     "execution_count": 2,
     "metadata": {},
     "output_type": "execute_result"
    }
   ],
   "source": [
    "\"1\"+\"<\""
   ]
  },
  {
   "cell_type": "code",
   "execution_count": 3,
   "id": "fc19e108-ba33-44e9-8333-5069c09f8e05",
   "metadata": {},
   "outputs": [
    {
     "name": "stdout",
     "output_type": "stream",
     "text": [
      "*\n",
      "**\n",
      "***\n",
      "****\n",
      "*****\n"
     ]
    }
   ],
   "source": [
    "for i in range(0,5):\n",
    "    print(\"*\"*(i+1))"
   ]
  },
  {
   "cell_type": "code",
   "execution_count": 4,
   "id": "781a8ede-6a95-4ab5-b01a-f3a9eac868c3",
   "metadata": {},
   "outputs": [
    {
     "name": "stdout",
     "output_type": "stream",
     "text": [
      "*\n",
      "**\n",
      "***\n",
      "****\n",
      "*****\n"
     ]
    }
   ],
   "source": [
    "print(\"*\"*1)\n",
    "print(\"*\"*2)\n",
    "print(\"*\"*3)\n",
    "print(\"*\"*4)\n",
    "print(\"*\"*5)"
   ]
  },
  {
   "cell_type": "code",
   "execution_count": 5,
   "id": "100b44e7-0920-4ff7-8a3d-4d4dc907f98f",
   "metadata": {},
   "outputs": [
    {
     "name": "stdout",
     "output_type": "stream",
     "text": [
      "*****\n",
      "****\n",
      "***\n",
      "**\n",
      "*\n"
     ]
    }
   ],
   "source": [
    "for i in range(0,5):\n",
    "    print(\"*\"*(5-i))"
   ]
  },
  {
   "cell_type": "code",
   "execution_count": 7,
   "id": "e00898af-cb57-4e74-a11b-9402187f0da7",
   "metadata": {},
   "outputs": [
    {
     "name": "stdout",
     "output_type": "stream",
     "text": [
      "*****\n",
      " ****\n",
      "  ***\n",
      "   **\n",
      "    *\n"
     ]
    }
   ],
   "source": [
    "for i in range(0,5):\n",
    "    print(\" \"*i+\"*\"*(5-i))"
   ]
  },
  {
   "cell_type": "code",
   "execution_count": 8,
   "id": "ef3b89aa-c6dd-4cb3-82b5-a5fbfc4c1638",
   "metadata": {},
   "outputs": [
    {
     "name": "stdout",
     "output_type": "stream",
     "text": [
      "* * * * * \n",
      " * * * * \n",
      "  * * * \n",
      "   * * \n",
      "    * \n"
     ]
    }
   ],
   "source": [
    "for i in range(0,5):\n",
    "    print(\" \"*i+\"* \"*(5-i))"
   ]
  },
  {
   "cell_type": "code",
   "execution_count": 9,
   "id": "ca42e292-e9f2-4997-9484-ca196158c31a",
   "metadata": {},
   "outputs": [
    {
     "name": "stdout",
     "output_type": "stream",
     "text": [
      "* * * * * \n",
      " * * * * \n",
      "  * * * \n",
      "   * * \n",
      "    * \n"
     ]
    }
   ],
   "source": [
    "for i in range(0,5):\n",
    "    print(\" \"*i+\"* \"*(5-i))"
   ]
  },
  {
   "cell_type": "code",
   "execution_count": 10,
   "id": "692ef78f-4a70-4e2f-a419-10a8b3bccee7",
   "metadata": {},
   "outputs": [
    {
     "name": "stdout",
     "output_type": "stream",
     "text": [
      "    * \n",
      "   * * \n",
      "  * * * \n",
      " * * * * \n",
      "* * * * * \n"
     ]
    }
   ],
   "source": [
    "for i in range(0,5):\n",
    "    print(\" \"*(4-i)+\"* \"*(i+1))"
   ]
  },
  {
   "cell_type": "code",
   "execution_count": 11,
   "id": "6d75351c-9a30-47a3-852f-d0cf218b4f94",
   "metadata": {},
   "outputs": [
    {
     "name": "stdout",
     "output_type": "stream",
     "text": [
      "* * * * * * * * \n",
      " * * * * * * * \n",
      "  * * * * * * \n",
      "   * * * * * \n",
      "    * * * * \n",
      "     * * * \n",
      "      * * \n",
      "       * \n",
      "       * \n",
      "      * * \n",
      "     * * * \n",
      "    * * * * \n",
      "   * * * * * \n",
      "  * * * * * * \n",
      " * * * * * * * \n",
      "* * * * * * * * \n"
     ]
    }
   ],
   "source": [
    "for i in range(0,8):\n",
    "    print(\" \"*i+\"* \"*(8-i))\n",
    "for i in range(0,8):\n",
    "    print(\" \"*(7-i)+\"* \"*(i+1))"
   ]
  },
  {
   "cell_type": "code",
   "execution_count": 3,
   "id": "f088b2e8-309a-4e2e-98a0-154c07a8bff8",
   "metadata": {},
   "outputs": [
    {
     "name": "stdout",
     "output_type": "stream",
     "text": [
      "* * * * * \n",
      " * * * * \n",
      "  * * * \n",
      "   * * \n",
      "    * \n",
      "    * \n",
      "   * * \n",
      "  * * * \n",
      " * * * * \n",
      "* * * * * \n"
     ]
    }
   ],
   "source": [
    "for i in range(0,5):\n",
    "    print(\" \"*i+\"* \"*(5-i))\n",
    "for i in range(0,5):\n",
    "    print(\" \"*(4-i)+\"* \"*(i+1))"
   ]
  },
  {
   "cell_type": "code",
   "execution_count": 8,
   "id": "e5d6784b-8fd2-49e5-aa37-3b71d325115e",
   "metadata": {
    "scrolled": true
   },
   "outputs": [
    {
     "name": "stdout",
     "output_type": "stream",
     "text": [
      "* * * * * \n",
      " * * * * \n",
      "  * * * \n",
      "   * * \n",
      "    * \n",
      "     \n",
      "  * * * * \n",
      " * * * * * * \n",
      "* * * * * * * * \n"
     ]
    }
   ],
   "source": [
    "for i in range(0,9):\n",
    "    if i<=5:\n",
    "        print(\" \"*i+\"* \"*(5-i))\n",
    "    else:\n",
    "        print(\" \"*(8-i)+\"* \"*((2*i)-8))"
   ]
  },
  {
   "cell_type": "code",
   "execution_count": 12,
   "id": "fb4fbe7a-af28-449c-80b3-5e157b2ddd69",
   "metadata": {},
   "outputs": [
    {
     "name": "stdout",
     "output_type": "stream",
     "text": [
      "* * * * * * * * \n",
      " * * * * * * * \n",
      "  * * * * * * \n",
      "   * * * * * \n",
      "    * * * * \n",
      "     * * * \n",
      "      * * \n",
      "       * \n"
     ]
    }
   ],
   "source": [
    "for i in range(0,8):\n",
    "    print(\" \"*i+\"* \"*(8-i))"
   ]
  },
  {
   "cell_type": "code",
   "execution_count": 9,
   "id": "046647fe-baa7-491d-b095-048c0e87a72c",
   "metadata": {},
   "outputs": [
    {
     "name": "stdout",
     "output_type": "stream",
     "text": [
      "* * * * * * * * \n",
      " * * * * * * * \n",
      "  * * * * * * \n",
      "   * * * * * \n",
      "    * * * * \n",
      "     * * * \n",
      "      * * \n",
      "       * \n",
      "       * \n",
      "      * * \n",
      "     * * * \n",
      "    * * * * \n",
      "   * * * * * \n",
      "  * * * * * * \n",
      " * * * * * * * \n",
      "* * * * * * * * \n"
     ]
    }
   ],
   "source": [
    "for i in range(0,8):\n",
    "    print(\" \"*i+\"* \"*(8-i))\n",
    "for i in range(0,8):\n",
    "    print(\" \"*(7-i)+\"* \"*(i+1))"
   ]
  },
  {
   "cell_type": "markdown",
   "id": "60492cf8-e496-4197-a3e5-620b669283f9",
   "metadata": {},
   "source": [
    "  >Pattern using simple while loop\n"
   ]
  },
  {
   "cell_type": "code",
   "execution_count": 1,
   "id": "1ceb657a-fcdb-4810-95ff-75736fdc013a",
   "metadata": {},
   "outputs": [
    {
     "name": "stdout",
     "output_type": "stream",
     "text": [
      "*\n",
      "**\n",
      "***\n",
      "****\n",
      "*****\n"
     ]
    }
   ],
   "source": [
    "print(\"*\")\n",
    "print(\"**\")\n",
    "print(\"***\")\n",
    "print(\"****\")\n",
    "print(\"*****\")"
   ]
  },
  {
   "cell_type": "code",
   "execution_count": 4,
   "id": "e88d7142-8ba9-4c0d-8400-51b8a2e580b2",
   "metadata": {},
   "outputs": [
    {
     "name": "stdout",
     "output_type": "stream",
     "text": [
      "*\n",
      "**\n",
      "***\n",
      "****\n",
      "*****\n"
     ]
    }
   ],
   "source": [
    "print(\"*\"*1)\n",
    "print(\"*\"*2)\n",
    "print(\"*\"*3)\n",
    "print(\"*\"*4)\n",
    "print(\"*\"*5)"
   ]
  },
  {
   "cell_type": "code",
   "execution_count": 6,
   "id": "a35f9ba2-c4e2-4d94-aea9-21bf6ce26aa0",
   "metadata": {},
   "outputs": [
    {
     "name": "stdout",
     "output_type": "stream",
     "text": [
      "*\n",
      "**\n",
      "***\n",
      "****\n",
      "*****\n"
     ]
    }
   ],
   "source": [
    "i=1\n",
    "while i<=5:\n",
    "    print(\"*\"*i)\n",
    "    i=i+1"
   ]
  },
  {
   "cell_type": "code",
   "execution_count": 12,
   "id": "7df4b1b0-74b2-4339-842b-60a401b0fb72",
   "metadata": {},
   "outputs": [
    {
     "name": "stdout",
     "output_type": "stream",
     "text": [
      "    *\n",
      "   **\n",
      "  ***\n",
      " ****\n",
      "*****\n"
     ]
    }
   ],
   "source": [
    "i=1\n",
    "while i<=5:\n",
    "    print(\" \"*(5-i)+\"*\"*i)\n",
    "    i=i+1\n"
   ]
  },
  {
   "cell_type": "code",
   "execution_count": null,
   "id": "414bf73d-8fe5-41ee-baa5-7428851a5a05",
   "metadata": {},
   "outputs": [],
   "source": []
  },
  {
   "cell_type": "code",
   "execution_count": 8,
   "id": "6c76fa7a-6133-4389-a088-c5db7fa8b218",
   "metadata": {},
   "outputs": [
    {
     "name": "stdout",
     "output_type": "stream",
     "text": [
      "*\n",
      "**\n",
      "***\n",
      "****\n",
      "*****\n"
     ]
    }
   ],
   "source": [
    "for i in range(5):\n",
    "    print("
   ]
  },
  {
   "cell_type": "code",
   "execution_count": 15,
   "id": "52c14600-6ae6-486d-94a4-c63a05ed93e7",
   "metadata": {},
   "outputs": [
    {
     "name": "stdout",
     "output_type": "stream",
     "text": [
      "*****\n",
      "*   *\n",
      "*   *\n",
      "*   *\n",
      "*****\n"
     ]
    }
   ],
   "source": [
    "print(\"*****\")\n",
    "print(\"*   *\")\n",
    "print(\"*   *\")\n",
    "print(\"*   *\")\n",
    "print(\"*****\")\n"
   ]
  },
  {
   "cell_type": "code",
   "execution_count": 16,
   "id": "5efc9bcc-7529-4f02-b0e9-4374e556c295",
   "metadata": {},
   "outputs": [
    {
     "name": "stdout",
     "output_type": "stream",
     "text": [
      "* * * * *\n",
      "*       *\n",
      "*       *\n",
      "*       *\n",
      "* * * * *\n"
     ]
    }
   ],
   "source": [
    "print(\"* * * * *\")\n",
    "print(\"*       *\")\n",
    "print(\"*       *\")\n",
    "print(\"*       *\")\n",
    "print(\"* * * * *\")"
   ]
  },
  {
   "cell_type": "code",
   "execution_count": 17,
   "id": "445483d1-d432-47af-8aa9-f0b2e4a317a2",
   "metadata": {},
   "outputs": [
    {
     "name": "stdout",
     "output_type": "stream",
     "text": [
      "* * * * * \n",
      "*       *\n",
      "*       *\n",
      "*       *\n",
      "* * * * * \n"
     ]
    }
   ],
   "source": [
    "i=1 \n",
    "while i<=5:\n",
    "    if i==1 or i==5:\n",
    "        print(\"* \"*5)\n",
    "    else:\n",
    "        print(\"*\"+\" \"*7+\"*\")\n",
    "    i=i+1\n",
    "      "
   ]
  },
  {
   "cell_type": "code",
   "execution_count": 20,
   "id": "05bd5010-8656-4f10-a1a2-c44e54ae74fd",
   "metadata": {},
   "outputs": [
    {
     "name": "stdout",
     "output_type": "stream",
     "text": [
      "* * * * * \n",
      "*       *\n",
      "*       *\n",
      "*       *\n",
      "* * * * * \n",
      "*       *\n",
      "*       *\n",
      "*       *\n",
      "* * * * * \n"
     ]
    }
   ],
   "source": [
    "i=1\n",
    "while i<=9:\n",
    "    if i==1 or i==5 or i==9:\n",
    "        print(\"* \"*5)\n",
    "    else:\n",
    "        print(\"*\"+\" \"*7+\"*\")\n",
    "    i=i+1"
   ]
  },
  {
   "cell_type": "code",
   "execution_count": 3,
   "id": "373a24e0-68a6-4efb-bad9-f29ed816be8c",
   "metadata": {},
   "outputs": [
    {
     "ename": "SyntaxError",
     "evalue": "invalid syntax (2834472515.py, line 8)",
     "output_type": "error",
     "traceback": [
      "\u001b[1;36m  Cell \u001b[1;32mIn[3], line 8\u001b[1;36m\u001b[0m\n\u001b[1;33m    k=\u001b[0m\n\u001b[1;37m      ^\u001b[0m\n\u001b[1;31mSyntaxError\u001b[0m\u001b[1;31m:\u001b[0m invalid syntax\n"
     ]
    }
   ],
   "source": [
    "i=1\n",
    "k=1\n",
    "while i<=9:\n",
    "    if i==1 or i==5 or i==9:\n",
    "        print(\"* \"*5)\n",
    "    elif i in [2,4,3]:\n",
    "        print(\"*\"+\" \"*k+\"*\"+\" \"*(6-k)+\"*\")\n",
    "        k=\n",
    "    else:\n",
    "        print(\"*\"+\" \"*7+\"*\")\n",
    "    i=i+1"
   ]
  },
  {
   "cell_type": "code",
   "execution_count": 7,
   "id": "7fb98cfe-d34e-4ec3-bb7f-85742a95a3e5",
   "metadata": {},
   "outputs": [
    {
     "name": "stdout",
     "output_type": "stream",
     "text": [
      "* * * * * \n",
      "* *     *\n",
      "* *     *\n",
      "* *     *\n",
      "* * * * * \n",
      "* *     *\n",
      "* *     *\n",
      "* *     *\n",
      "* * * * * \n",
      "* *     *\n",
      "* *     *\n",
      "* *     *\n",
      "* * * * * \n"
     ]
    }
   ],
   "source": [
    "i=1\n",
    "k=1\n",
    "while i<=13:\n",
    "    if i in [1,5,9,13]:\n",
    "        print(\"* \"*5)\n",
    "    elif i in [2,3,4,6,7,8,10,11,12]:\n",
    "        print(\"*\"+\" \"*k+\"*\"+\" \"*(6-k)+\"*\")\n",
    "    else:\n",
    "        print(\"*\"+\" \"*7+\"*\")\n",
    "    i=i+1\n",
    "    \n",
    "  \n"
   ]
  },
  {
   "cell_type": "code",
   "execution_count": 12,
   "id": "dbf5dd8f-aa6c-4980-ae1e-aab7294234b3",
   "metadata": {},
   "outputs": [
    {
     "name": "stdout",
     "output_type": "stream",
     "text": [
      "* * * * * \n",
      "*       *\n",
      "*       *\n",
      "*       *\n",
      "* * * * * \n",
      "*       *\n",
      "*       *\n",
      "*       *\n",
      "* * * * * \n",
      "*       *\n",
      "*       *\n",
      "*       *\n",
      "* * * * * \n"
     ]
    }
   ],
   "source": [
    "i=1\n",
    "while i<=13:\n",
    "    if i in [1,5,9,13]:\n",
    "        print(\"* \"*5)\n",
    "    else:\n",
    "        print(\"*\"+\" \"*7+\"*\")\n",
    "    i=i+1"
   ]
  },
  {
   "cell_type": "code",
   "execution_count": 17,
   "id": "cfd522af-c009-4908-8ad8-4419a999d70d",
   "metadata": {},
   "outputs": [
    {
     "name": "stdout",
     "output_type": "stream",
     "text": [
      "    *\n",
      "   **\n",
      "  ***\n",
      " ****\n",
      "*****\n",
      "    *\n",
      "   **\n",
      "  ***\n",
      " ****\n",
      "*****\n"
     ]
    }
   ],
   "source": [
    "i=1\n",
    "while i<=5:\n",
    "    print(\" \"*(5-i)+\"*\"*i)\n",
    "    i=i+1\n",
    "i=1\n",
    "while i<=5:\n",
    "    print(\" \"*(5-i)+\"*\"*i)\n",
    "    i=i+1\n"
   ]
  },
  {
   "cell_type": "code",
   "execution_count": 11,
   "id": "b9629dbc-efe6-429e-80ce-cf327beab1a8",
   "metadata": {},
   "outputs": [
    {
     "name": "stdout",
     "output_type": "stream",
     "text": [
      "*\n",
      "**\n",
      "***\n",
      "****\n",
      "*****\n",
      "******\n"
     ]
    }
   ],
   "source": [
    "#while loop\n",
    "i=1\n",
    "while i<=6:\n",
    "    print(\"*\"*i)\n",
    "    i=i+1"
   ]
  },
  {
   "cell_type": "code",
   "execution_count": 7,
   "id": "fac2ea16-4146-4104-ab9e-8ef2d83f6969",
   "metadata": {},
   "outputs": [
    {
     "name": "stdout",
     "output_type": "stream",
     "text": [
      "*\n",
      "**\n",
      "***\n",
      "****\n",
      "*****\n"
     ]
    }
   ],
   "source": [
    "#convert for loop\n",
    "for i in range(5):\n",
    "    print(\"*\"*(i+1))"
   ]
  },
  {
   "cell_type": "code",
   "execution_count": 16,
   "id": "ce8d0d32-a2c0-4720-9e37-bb970d057159",
   "metadata": {},
   "outputs": [
    {
     "name": "stdout",
     "output_type": "stream",
     "text": [
      "     *\n",
      "    **\n",
      "   ***\n",
      "  ****\n",
      " *****\n",
      "******\n"
     ]
    }
   ],
   "source": [
    "i=1\n",
    "while i<=6:\n",
    "    print(\" \"*(6-i)+\"*\"*i)\n",
    "    i=i+1"
   ]
  },
  {
   "cell_type": "code",
   "execution_count": 17,
   "id": "5f982104-7d8e-48ca-8563-bc471ad17630",
   "metadata": {},
   "outputs": [
    {
     "name": "stdout",
     "output_type": "stream",
     "text": [
      "      *\n",
      "     **\n",
      "    ***\n",
      "   ****\n",
      "  *****\n",
      " ******\n",
      "*******\n"
     ]
    }
   ],
   "source": [
    "i=1\n",
    "while i<=7:\n",
    "    print(\" \"*(7-i)+\"*\"*i)\n",
    "    i=i+1"
   ]
  },
  {
   "cell_type": "code",
   "execution_count": 6,
   "id": "8d59965b-b9cb-4b42-9174-ca55ba20035a",
   "metadata": {},
   "outputs": [
    {
     "name": "stdout",
     "output_type": "stream",
     "text": [
      "      *\n",
      "     **\n",
      "    ***\n",
      "   ****\n",
      "  *****\n",
      " ******\n",
      "*******\n"
     ]
    }
   ],
   "source": [
    "i=1\n",
    "while i<=7:\n",
    "    print(\" \"*(7-i)+\"*\"*i)\n",
    "    i=i+1"
   ]
  },
  {
   "cell_type": "code",
   "execution_count": 7,
   "id": "8ef7ab00-8aea-4968-bd5f-4682a245f27c",
   "metadata": {},
   "outputs": [
    {
     "name": "stdout",
     "output_type": "stream",
     "text": [
      "*\n",
      "**\n",
      "***\n",
      "****\n",
      "*****\n",
      "******\n",
      "*******\n",
      "********\n",
      "*********\n",
      "**********\n",
      "***********\n",
      "************\n",
      "*************\n",
      "**************\n",
      "***************\n",
      "****************\n",
      "*****************\n",
      "******************\n",
      "*******************\n",
      "********************\n",
      "*********************\n"
     ]
    }
   ],
   "source": [
    "i=1\n",
    "while i<=21:\n",
    "    print(\"*\"*i)\n",
    "    i=i+1"
   ]
  },
  {
   "cell_type": "code",
   "execution_count": 8,
   "id": "c63e2078-ae4c-4929-b86f-947ee5612ca4",
   "metadata": {},
   "outputs": [
    {
     "name": "stdout",
     "output_type": "stream",
     "text": [
      "                    *\n",
      "                   **\n",
      "                  ***\n",
      "                 ****\n",
      "                *****\n",
      "               ******\n",
      "              *******\n",
      "             ********\n",
      "            *********\n",
      "           **********\n",
      "          ***********\n",
      "         ************\n",
      "        *************\n",
      "       **************\n",
      "      ***************\n",
      "     ****************\n",
      "    *****************\n",
      "   ******************\n",
      "  *******************\n",
      " ********************\n",
      "*********************\n"
     ]
    }
   ],
   "source": [
    "i=1\n",
    "while i<=21:\n",
    "    print(\" \"*(21-i)+\"*\"*i)\n",
    "    i=i+1"
   ]
  },
  {
   "cell_type": "code",
   "execution_count": 14,
   "id": "fc045010-987a-4372-9665-6297902499c0",
   "metadata": {},
   "outputs": [
    {
     "name": "stdout",
     "output_type": "stream",
     "text": [
      "* * * * * * * * * * * * * * * * * * * * * \n",
      " * * * * * * * * * * * * * * * * * * * * \n",
      "  * * * * * * * * * * * * * * * * * * * \n",
      "   * * * * * * * * * * * * * * * * * * \n",
      "    * * * * * * * * * * * * * * * * * \n",
      "     * * * * * * * * * * * * * * * * \n",
      "      * * * * * * * * * * * * * * * \n",
      "       * * * * * * * * * * * * * * \n",
      "        * * * * * * * * * * * * * \n",
      "         * * * * * * * * * * * * \n",
      "          * * * * * * * * * * * \n",
      "           * * * * * * * * * * \n",
      "            * * * * * * * * * \n",
      "             * * * * * * * * \n",
      "              * * * * * * * \n",
      "               * * * * * * \n",
      "                * * * * * \n",
      "                 * * * * \n",
      "                  * * * \n",
      "                   * * \n",
      "                    * \n",
      "                     * \n",
      "                    * * \n",
      "                   * * * \n",
      "                  * * * * \n",
      "                 * * * * * \n",
      "                * * * * * * \n",
      "               * * * * * * * \n",
      "              * * * * * * * * \n",
      "             * * * * * * * * * \n",
      "            * * * * * * * * * * \n",
      "           * * * * * * * * * * * \n",
      "          * * * * * * * * * * * * \n",
      "         * * * * * * * * * * * * * \n",
      "        * * * * * * * * * * * * * * \n",
      "       * * * * * * * * * * * * * * * \n",
      "      * * * * * * * * * * * * * * * * \n",
      "     * * * * * * * * * * * * * * * * * \n",
      "    * * * * * * * * * * * * * * * * * * \n",
      "   * * * * * * * * * * * * * * * * * * * \n",
      "  * * * * * * * * * * * * * * * * * * * * \n",
      " * * * * * * * * * * * * * * * * * * * * * \n"
     ]
    }
   ],
   "source": [
    "for i in range(0,21):\n",
    "    print(\" \"*i+\"* \"*(21-i))\n",
    "for i in range(0,21):\n",
    "    print(\" \"*(21-i)+\"* \"*(i+1))"
   ]
  },
  {
   "cell_type": "code",
   "execution_count": 10,
   "id": "1fbab72c-ad43-447a-bb77-eb157bded2ee",
   "metadata": {},
   "outputs": [
    {
     "name": "stdout",
     "output_type": "stream",
     "text": [
      "* * * * * * * * * * * * \n",
      " * * * * * * * * * * * \n",
      "  * * * * * * * * * * \n",
      "   * * * * * * * * * \n",
      "    * * * * * * * * \n",
      "     * * * * * * * \n",
      "      * * * * * * \n",
      "       * * * * * \n",
      "        * * * * \n",
      "         * * * \n",
      "          * * \n",
      "           * \n",
      "            * \n",
      "           * * \n",
      "          * * * \n",
      "         * * * * \n",
      "        * * * * * \n",
      "       * * * * * * \n",
      "      * * * * * * * \n",
      "     * * * * * * * * \n",
      "    * * * * * * * * * \n",
      "   * * * * * * * * * * \n",
      "  * * * * * * * * * * * \n",
      " * * * * * * * * * * * * \n"
     ]
    }
   ],
   "source": [
    "for i in range(0,12):\n",
    "    print(\" \"*i+\"* \"*(12-i))\n",
    "for i in range(0,12):\n",
    "    print(\" \"*(12-i)+\"* \"*(i+1))\n",
    "    "
   ]
  },
  {
   "cell_type": "code",
   "execution_count": null,
   "id": "37870cf9-f902-4782-9fb9-132d11055659",
   "metadata": {},
   "outputs": [],
   "source": []
  }
 ],
 "metadata": {
  "kernelspec": {
   "display_name": "Python 3 (ipykernel)",
   "language": "python",
   "name": "python3"
  },
  "language_info": {
   "codemirror_mode": {
    "name": "ipython",
    "version": 3
   },
   "file_extension": ".py",
   "mimetype": "text/x-python",
   "name": "python",
   "nbconvert_exporter": "python",
   "pygments_lexer": "ipython3",
   "version": "3.11.4"
  }
 },
 "nbformat": 4,
 "nbformat_minor": 5
}
