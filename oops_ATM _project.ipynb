{
 "cells": [
  {
   "cell_type": "code",
   "execution_count": 1,
   "id": "55cb83a8-3a69-424d-80e6-a74f6bdcdfe6",
   "metadata": {},
   "outputs": [],
   "source": [
    "import time\n",
    "class ATM:\n",
    "    def __int__(self):\n",
    "        print(\"Welcome to Kotak Mahindra Bank\")\n",
    "        self.pin=\"1111\"\n",
    "        self.balance=10000.00\n",
    "        time.sleep(4)\n",
    "        self.Intro()\n",
    "    def Intro(self):\n",
    "        user=input(\"\"\"Kindly choose one option :\n",
    "        1.Balance enquiry\n",
    "        2.Fund transfer\n",
    "        3.Change pin\n",
    "        4.Withdrawal\n",
    "        5.Exit\n",
    "        \n",
    "        \"\"\")\n",
    "        if user==\"1\":\n",
    "            self.balance_enquiry()\n",
    "        elif user==\"2\":\n",
    "            self.fund_transfer()\n",
    "        elif user==\"3\":\n",
    "            self.change_pin()\n",
    "        elif user==\"4\":\n",
    "            self.withdrawal()\n",
    "        elif user==\"5\":\n",
    "            self.exit()\n",
    "        else:\n",
    "            print(\"Go to hell\")\n",
    "    def balance_enquiry(self):\n",
    "        print(\"Welcome to Balance enquiry\")\n",
    "        self.intro()\n",
    "    def fund_transfer(self):\n",
    "        print(\"Welcome to fund transfer\")\n",
    "        self.intro()\n",
    "    def change_pin(self):\n",
    "        print(\"Welcome to change pin\")\n",
    "        self.intro()\n",
    "    def withdrawal(self):\n",
    "        print(\"Welcome to withdrawal section\")\n",
    "        self.intro\n",
    "    def exit(self):\n",
    "        print(\"Thankyou to banking with us\")"
   ]
  },
  {
   "cell_type": "code",
   "execution_count": 2,
   "id": "b3f06dc4-1c4d-4da2-a833-420d15c98b97",
   "metadata": {},
   "outputs": [],
   "source": [
    "ammar=ATM()"
   ]
  },
  {
   "cell_type": "code",
   "execution_count": 1,
   "id": "2d444bf8-e4fd-43f0-b9aa-0fca27ffe825",
   "metadata": {},
   "outputs": [],
   "source": [
    "## import time\n",
    "\n",
    "class ATM:\n",
    "    def __init__(self):\n",
    "        print(\"Welcome to Kotak Mahindra Bank\")\n",
    "        self.pin = \"1111\"\n",
    "        self.balance = 10000.00\n",
    "        time.sleep(4)\n",
    "        self.intro()\n",
    "\n",
    "    def intro(self):\n",
    "        user = input(\"\"\"Kindly choose one option :\n",
    "        1.Balance enquiry\n",
    "        2.Fund transfer\n",
    "        3.Change pin\n",
    "        4.Withdrawal\n",
    "        5.Exit\n",
    "\n",
    "        \"\"\")\n",
    "        if user == \"1\":\n",
    "            self.balance_enquiry()\n",
    "        elif user == \"2\":\n",
    "            self.fund_transfer()\n",
    "        elif user == \"3\":\n",
    "            self.change_pin()\n",
    "        elif user == \"4\":\n",
    "            self.withdrawal()\n",
    "        elif user == \"5\":\n",
    "            self.exit()\n",
    "        else:\n",
    "            print(\"Go to hell\")\n",
    "\n",
    "    def balance_enquiry(self):\n",
    "        print(\"Welcome to Balance enquiry\")\n",
    "        self.intro()\n",
    "\n",
    "    def fund_transfer(self):\n",
    "        print(\"Welcome to fund transfer\")\n",
    "        self.intro()\n",
    "\n",
    "    def change_pin(self):\n",
    "        print(\"Welcome to change pin\")\n",
    "        self.intro()\n",
    "\n",
    "    def withdrawal(self):\n",
    "        print(\"Welcome to withdrawal section\")\n",
    "        self.intro()\n",
    "\n",
    "    def exit(self):\n",
    "        print(\"Thank you for banking with us\")"
   ]
  },
  {
   "cell_type": "code",
   "execution_count": 2,
   "id": "f0496cfc-bc63-4c36-af62-7e8e795d75bc",
   "metadata": {},
   "outputs": [
    {
     "name": "stdout",
     "output_type": "stream",
     "text": [
      "Welcome to Kotak Mahindra Bank\n"
     ]
    },
    {
     "ename": "NameError",
     "evalue": "name 'time' is not defined",
     "output_type": "error",
     "traceback": [
      "\u001b[1;31m---------------------------------------------------------------------------\u001b[0m",
      "\u001b[1;31mNameError\u001b[0m                                 Traceback (most recent call last)",
      "Cell \u001b[1;32mIn[2], line 1\u001b[0m\n\u001b[1;32m----> 1\u001b[0m Ammar\u001b[38;5;241m=\u001b[39m\u001b[43mATM\u001b[49m\u001b[43m(\u001b[49m\u001b[43m)\u001b[49m\n",
      "Cell \u001b[1;32mIn[1], line 8\u001b[0m, in \u001b[0;36mATM.__init__\u001b[1;34m(self)\u001b[0m\n\u001b[0;32m      6\u001b[0m \u001b[38;5;28mself\u001b[39m\u001b[38;5;241m.\u001b[39mpin \u001b[38;5;241m=\u001b[39m \u001b[38;5;124m\"\u001b[39m\u001b[38;5;124m1111\u001b[39m\u001b[38;5;124m\"\u001b[39m\n\u001b[0;32m      7\u001b[0m \u001b[38;5;28mself\u001b[39m\u001b[38;5;241m.\u001b[39mbalance \u001b[38;5;241m=\u001b[39m \u001b[38;5;241m10000.00\u001b[39m\n\u001b[1;32m----> 8\u001b[0m \u001b[43mtime\u001b[49m\u001b[38;5;241m.\u001b[39msleep(\u001b[38;5;241m4\u001b[39m)\n\u001b[0;32m      9\u001b[0m \u001b[38;5;28mself\u001b[39m\u001b[38;5;241m.\u001b[39mintro()\n",
      "\u001b[1;31mNameError\u001b[0m: name 'time' is not defined"
     ]
    }
   ],
   "source": [
    "Ammar=ATM()"
   ]
  },
  {
   "cell_type": "code",
   "execution_count": null,
   "id": "2590f760-58b1-473d-9b43-6e69313bbf69",
   "metadata": {},
   "outputs": [
    {
     "name": "stdout",
     "output_type": "stream",
     "text": [
      "Welcome to Kotak Mahindra Bank\n"
     ]
    }
   ],
   "source": [
    "import time\n",
    "\n",
    "class ATM:\n",
    "    def __init__(self):\n",
    "        print(\"Welcome to Kotak Mahindra Bank\")\n",
    "        self.pin = \"1111\"\n",
    "        self.balance = 10000.00\n",
    "        time.sleep(4)\n",
    "        self.Intro()\n",
    "\n",
    "    def Intro(self):\n",
    "        user = input(\"\"\"Kindly choose one option :\n",
    "        1.Balance enquiry\n",
    "        2.Fund transfer\n",
    "        3.Change pin\n",
    "        4.Withdrawal\n",
    "        5.Exit\n",
    "\n",
    "        \"\"\")\n",
    "        if user == \"1\":\n",
    "            self.balance_enquiry()\n",
    "        elif user == \"2\":\n",
    "            self.fund_transfer()\n",
    "        elif user == \"3\":\n",
    "            self.change_pin()\n",
    "        elif user == \"4\":\n",
    "            self.withdrawal()\n",
    "        elif user == \"5\":\n",
    "            self.exit()\n",
    "        else:\n",
    "            print(\"Go to hell\")\n",
    "\n",
    "    def balance_enquiry(self):\n",
    "        print(\"Welcome to Balance enquiry\")\n",
    "        self.Intro()\n",
    "\n",
    "    def fund_transfer(self):\n",
    "        print(\"Welcome to fund transfer\")\n",
    "        self.Intro()\n",
    "\n",
    "    def change_pin(self):\n",
    "        print(\"Welcome to change pin\")\n",
    "        self.Intro()\n",
    "\n",
    "    def withdrawal(self):\n",
    "        print(\"Welcome to withdrawal section\")\n",
    "        self.Intro()\n",
    "\n",
    "    def exit(self):\n",
    "        print(\"Thank you for banking with us\")\n",
    "\n",
    "# Example usage:\n",
    "Ammar = ATM()\n"
   ]
  },
  {
   "cell_type": "code",
   "execution_count": 1,
   "id": "c0b8c9dc-4651-46f0-847f-84c40afc8544",
   "metadata": {},
   "outputs": [
    {
     "name": "stdout",
     "output_type": "stream",
     "text": [
      "Welcome to Kotak Mahindra Bank\n"
     ]
    },
    {
     "name": "stdin",
     "output_type": "stream",
     "text": [
      "Kindly choose one option :\n",
      "        1.Balance enquiry\n",
      "        2.Fund transfer\n",
      "        3.Change pin\n",
      "        4.Withdrawal\n",
      "        5.Exit\n",
      "\n",
      "         3\n"
     ]
    },
    {
     "name": "stdout",
     "output_type": "stream",
     "text": [
      "Welcome to change pin\n"
     ]
    },
    {
     "name": "stdin",
     "output_type": "stream",
     "text": [
      "Kindly choose one option :\n",
      "        1.Balance enquiry\n",
      "        2.Fund transfer\n",
      "        3.Change pin\n",
      "        4.Withdrawal\n",
      "        5.Exit\n",
      "\n",
      "         1111\n"
     ]
    },
    {
     "name": "stdout",
     "output_type": "stream",
     "text": [
      "Go to hell\n"
     ]
    }
   ],
   "source": [
    "import time\n",
    "\n",
    "class ATM:\n",
    "    def __init__(self):\n",
    "        print(\"Welcome to Kotak Mahindra Bank\")\n",
    "        self.pin = \"1111\"\n",
    "        self.balance = 10000.00\n",
    "        time.sleep(2)\n",
    "        self.Intro()\n",
    "\n",
    "    def Intro(self):\n",
    "        user = input(\"\"\"Kindly choose one option :\n",
    "        1.Balance enquiry\n",
    "        2.Fund transfer\n",
    "        3.Change pin\n",
    "        4.Withdrawal\n",
    "        5.Exit\n",
    "\n",
    "        \"\"\")\n",
    "        if user == \"1\":\n",
    "            self.balance_enquiry()\n",
    "        elif user == \"2\":\n",
    "            self.fund_transfer()\n",
    "        elif user == \"3\":\n",
    "            self.change_pin()\n",
    "        elif user == \"4\":\n",
    "            self.withdrawal()\n",
    "        elif user == \"5\":\n",
    "            self.exit()\n",
    "        else:\n",
    "            print(\"Go to hell\")\n",
    "\n",
    "    def balance_enquiry(self):\n",
    "        print(\"Welcome to Balance enquiry\")\n",
    "        self.Intro()\n",
    "\n",
    "    def fund_transfer(self):\n",
    "        print(\"Welcome to fund transfer\")\n",
    "        self.Intro()\n",
    "\n",
    "    def change_pin(self):\n",
    "        print(\"Welcome to change pin\")\n",
    "        self.Intro()\n",
    "\n",
    "    def withdrawal(self):\n",
    "        print(\"Welcome to withdrawal section\")\n",
    "        self.Intro()\n",
    "\n",
    "    def exit(self):\n",
    "        print(\"Thank you for banking with us\")\n",
    "\n",
    "# Example usage:\n",
    "Ammar = ATM()\n"
   ]
  },
  {
   "cell_type": "code",
   "execution_count": null,
   "id": "595fd4e3-e52b-4346-90bd-d07b9144ed9c",
   "metadata": {},
   "outputs": [],
   "source": [
    "import time\n",
    "class ATM:\n",
    "    def __init__self():\n",
    "        print(\"welcome to sbi bank\")\n",
    "        self.balance=10000.00\n",
    "        self.pin=\"1111\"\n",
    " "
   ]
  },
  {
   "cell_type": "code",
   "execution_count": 2,
   "id": "caf4c19f-5847-4c8c-b3ab-68690d9c6b27",
   "metadata": {},
   "outputs": [
    {
     "ename": "AttributeError",
     "evalue": "module 'math' has no attribute 'poe'",
     "output_type": "error",
     "traceback": [
      "\u001b[1;31m---------------------------------------------------------------------------\u001b[0m",
      "\u001b[1;31mAttributeError\u001b[0m                            Traceback (most recent call last)",
      "Cell \u001b[1;32mIn[2], line 2\u001b[0m\n\u001b[0;32m      1\u001b[0m \u001b[38;5;28;01mimport\u001b[39;00m \u001b[38;5;21;01mmath\u001b[39;00m\n\u001b[1;32m----> 2\u001b[0m \u001b[38;5;28mprint\u001b[39m(\u001b[43mmath\u001b[49m\u001b[38;5;241;43m.\u001b[39;49m\u001b[43mpoe\u001b[49m(\u001b[38;5;241m2\u001b[39m,\u001b[38;5;241m10\u001b[39m))\n",
      "\u001b[1;31mAttributeError\u001b[0m: module 'math' has no attribute 'poe'"
     ]
    }
   ],
   "source": [
    "import math\n",
    "print(math.poe(2,10))"
   ]
  },
  {
   "cell_type": "code",
   "execution_count": 4,
   "id": "55fbdd48-2c9c-4a07-bf11-296dde3411c1",
   "metadata": {},
   "outputs": [
    {
     "name": "stdout",
     "output_type": "stream",
     "text": [
      "The number is3\n"
     ]
    }
   ],
   "source": [
    "number=3\n",
    "print(f\"The number is{number}\")"
   ]
  },
  {
   "cell_type": "code",
   "execution_count": null,
   "id": "c3348883-e9e6-4373-bf99-6b2ac76ee753",
   "metadata": {},
   "outputs": [],
   "source": []
  }
 ],
 "metadata": {
  "kernelspec": {
   "display_name": "Python 3 (ipykernel)",
   "language": "python",
   "name": "python3"
  },
  "language_info": {
   "codemirror_mode": {
    "name": "ipython",
    "version": 3
   },
   "file_extension": ".py",
   "mimetype": "text/x-python",
   "name": "python",
   "nbconvert_exporter": "python",
   "pygments_lexer": "ipython3",
   "version": "3.11.4"
  }
 },
 "nbformat": 4,
 "nbformat_minor": 5
}
