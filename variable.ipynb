{
 "cells": [
  {
   "cell_type": "markdown",
   "id": "a8ee5572-b011-4abd-b1ff-4c71ddf69077",
   "metadata": {},
   "source": [
    "# Variable: \n",
    "\n",
    "> Variable name never start with a number.\n",
    "    \n",
    "> Variable name never contain special character except underscore(_). \n",
    "                       '!\"#$%&\\'()*+,./:;<=>?@[\\\\]^_`{|}~'\n",
    ">Variable name must be readable. \r\n"
   ]
  },
  {
   "cell_type": "code",
   "execution_count": 3,
   "id": "aa6fef88-461e-41f6-94e1-023e3fafe498",
   "metadata": {},
   "outputs": [
    {
     "data": {
      "text/plain": [
       "'!\"#$%&\\'()*+,-./:;<=>?@[\\\\]^_`{|}~'"
      ]
     },
     "execution_count": 3,
     "metadata": {},
     "output_type": "execute_result"
    }
   ],
   "source": [
    "import string\n",
    "string.punctuation"
   ]
  },
  {
   "cell_type": "raw",
   "id": "3240cef2-6e1f-47a7-9cf3-e91da333c22c",
   "metadata": {},
   "source": [
    "ram_gopal_verma=20 #snake case\n",
    "ramGopalVerma=20 #camel case\n",
    "RamGopalVerma=20 #pascal case"
   ]
  },
  {
   "cell_type": "markdown",
   "id": "ba9cc5f8-58fe-4265-9c1a-c332c7a2fcb4",
   "metadata": {},
   "source": [
    "Metadata #data about data called meta data"
   ]
  },
  {
   "cell_type": "code",
   "execution_count": 8,
   "id": "f35af671-b206-4cf5-97d2-209db5dbaca3",
   "metadata": {},
   "outputs": [
    {
     "name": "stdout",
     "output_type": "stream",
     "text": [
      "30\n"
     ]
    }
   ],
   "source": [
    "a=10\n",
    "b=20\n",
    "print(a+b)"
   ]
  },
  {
   "cell_type": "code",
   "execution_count": 9,
   "id": "669b4e0b-acb7-4f77-baf9-9f412ecdf518",
   "metadata": {},
   "outputs": [],
   "source": [
    "a1mmar=60"
   ]
  },
  {
   "cell_type": "code",
   "execution_count": 10,
   "id": "ab91c08f-35ff-4733-9f3e-40025c3d63aa",
   "metadata": {},
   "outputs": [
    {
     "name": "stdout",
     "output_type": "stream",
     "text": [
      "60\n"
     ]
    }
   ],
   "source": [
    "print(a1mmar)"
   ]
  },
  {
   "cell_type": "code",
   "execution_count": 11,
   "id": "371bca39-c60d-41d3-a520-30d121c6b704",
   "metadata": {},
   "outputs": [
    {
     "name": "stdout",
     "output_type": "stream",
     "text": [
      "10\n"
     ]
    }
   ],
   "source": [
    "print(b-a)"
   ]
  },
  {
   "cell_type": "code",
   "execution_count": 12,
   "id": "9698a84f-b3f6-4631-a369-4dbea0213e5a",
   "metadata": {},
   "outputs": [
    {
     "name": "stdout",
     "output_type": "stream",
     "text": [
      "-10\n"
     ]
    }
   ],
   "source": [
    "print(a-b)"
   ]
  },
  {
   "cell_type": "code",
   "execution_count": null,
   "id": "7a90e96f-fca5-4d7f-bcec-1bebb3bd9a72",
   "metadata": {},
   "outputs": [],
   "source": []
  }
 ],
 "metadata": {
  "kernelspec": {
   "display_name": "Python 3 (ipykernel)",
   "language": "python",
   "name": "python3"
  },
  "language_info": {
   "codemirror_mode": {
    "name": "ipython",
    "version": 3
   },
   "file_extension": ".py",
   "mimetype": "text/x-python",
   "name": "python",
   "nbconvert_exporter": "python",
   "pygments_lexer": "ipython3",
   "version": "3.11.4"
  }
 },
 "nbformat": 4,
 "nbformat_minor": 5
}
