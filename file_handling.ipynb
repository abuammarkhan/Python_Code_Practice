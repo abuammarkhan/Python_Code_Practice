{
 "cells": [
  {
   "cell_type": "code",
   "execution_count": 1,
   "id": "211aa11b-9e07-4f69-9bff-97eb6ed40034",
   "metadata": {},
   "outputs": [
    {
     "name": "stdout",
     "output_type": "stream",
     "text": [
      "hello world\n"
     ]
    }
   ],
   "source": [
    "print(\"hello world\")"
   ]
  },
  {
   "cell_type": "markdown",
   "id": "1382e811-206f-4dd6-aa14-f6312bc81230",
   "metadata": {},
   "source": [
    "> x: is used to creat a file\n",
    "\n",
    "> r: is used to read a file content \n",
    "\n",
    "> w: is used to write something on a file \n",
    "\n",
    "> a: is used to add something on file without removing previous content\n"
   ]
  },
  {
   "cell_type": "code",
   "execution_count": 10,
   "id": "49e3f1ac-3763-43b0-9f83-c22542903918",
   "metadata": {},
   "outputs": [
    {
     "ename": "FileExistsError",
     "evalue": "[Errno 17] File exists: 'xyz.txt'",
     "output_type": "error",
     "traceback": [
      "\u001b[1;31m---------------------------------------------------------------------------\u001b[0m",
      "\u001b[1;31mFileExistsError\u001b[0m                           Traceback (most recent call last)",
      "Cell \u001b[1;32mIn[10], line 1\u001b[0m\n\u001b[1;32m----> 1\u001b[0m f1\u001b[38;5;241m=\u001b[39m\u001b[38;5;28;43mopen\u001b[39;49m\u001b[43m(\u001b[49m\u001b[38;5;124;43m\"\u001b[39;49m\u001b[38;5;124;43mxyz.txt\u001b[39;49m\u001b[38;5;124;43m\"\u001b[39;49m\u001b[43m,\u001b[49m\u001b[38;5;124;43m'\u001b[39;49m\u001b[38;5;124;43mx\u001b[39;49m\u001b[38;5;124;43m'\u001b[39;49m\u001b[43m)\u001b[49m\n\u001b[0;32m      2\u001b[0m f1\u001b[38;5;241m.\u001b[39mclose()\n",
      "File \u001b[1;32m~\\AppData\\Local\\Programs\\Python\\Python311\\Lib\\site-packages\\IPython\\core\\interactiveshell.py:284\u001b[0m, in \u001b[0;36m_modified_open\u001b[1;34m(file, *args, **kwargs)\u001b[0m\n\u001b[0;32m    277\u001b[0m \u001b[38;5;28;01mif\u001b[39;00m file \u001b[38;5;129;01min\u001b[39;00m {\u001b[38;5;241m0\u001b[39m, \u001b[38;5;241m1\u001b[39m, \u001b[38;5;241m2\u001b[39m}:\n\u001b[0;32m    278\u001b[0m     \u001b[38;5;28;01mraise\u001b[39;00m \u001b[38;5;167;01mValueError\u001b[39;00m(\n\u001b[0;32m    279\u001b[0m         \u001b[38;5;124mf\u001b[39m\u001b[38;5;124m\"\u001b[39m\u001b[38;5;124mIPython won\u001b[39m\u001b[38;5;124m'\u001b[39m\u001b[38;5;124mt let you open fd=\u001b[39m\u001b[38;5;132;01m{\u001b[39;00mfile\u001b[38;5;132;01m}\u001b[39;00m\u001b[38;5;124m by default \u001b[39m\u001b[38;5;124m\"\u001b[39m\n\u001b[0;32m    280\u001b[0m         \u001b[38;5;124m\"\u001b[39m\u001b[38;5;124mas it is likely to crash IPython. If you know what you are doing, \u001b[39m\u001b[38;5;124m\"\u001b[39m\n\u001b[0;32m    281\u001b[0m         \u001b[38;5;124m\"\u001b[39m\u001b[38;5;124myou can use builtins\u001b[39m\u001b[38;5;124m'\u001b[39m\u001b[38;5;124m open.\u001b[39m\u001b[38;5;124m\"\u001b[39m\n\u001b[0;32m    282\u001b[0m     )\n\u001b[1;32m--> 284\u001b[0m \u001b[38;5;28;01mreturn\u001b[39;00m \u001b[43mio_open\u001b[49m\u001b[43m(\u001b[49m\u001b[43mfile\u001b[49m\u001b[43m,\u001b[49m\u001b[43m \u001b[49m\u001b[38;5;241;43m*\u001b[39;49m\u001b[43margs\u001b[49m\u001b[43m,\u001b[49m\u001b[43m \u001b[49m\u001b[38;5;241;43m*\u001b[39;49m\u001b[38;5;241;43m*\u001b[39;49m\u001b[43mkwargs\u001b[49m\u001b[43m)\u001b[49m\n",
      "\u001b[1;31mFileExistsError\u001b[0m: [Errno 17] File exists: 'xyz.txt'"
     ]
    }
   ],
   "source": [
    "f1=open(\"xyz.txt\",'x')\n",
    "f1.close()"
   ]
  },
  {
   "cell_type": "code",
   "execution_count": 6,
   "id": "fe6d933b-104f-42ac-8f56-b745cd45fea8",
   "metadata": {},
   "outputs": [],
   "source": [
    "f1=open(\"file_handl.ipynb\",'x')\n",
    "f1.close()"
   ]
  },
  {
   "cell_type": "code",
   "execution_count": 8,
   "id": "711de7e9-58e0-47f9-a053-e70b5e7b8a54",
   "metadata": {},
   "outputs": [],
   "source": [
    " f2=open(\"xyz.txt\",'r')"
   ]
  },
  {
   "cell_type": "code",
   "execution_count": 9,
   "id": "dd40dc8e-0757-488d-b59c-516fc2bb57c5",
   "metadata": {},
   "outputs": [
    {
     "data": {
      "text/plain": [
       "'my name is a'"
      ]
     },
     "execution_count": 9,
     "metadata": {},
     "output_type": "execute_result"
    }
   ],
   "source": [
    "f2.read(12)"
   ]
  },
  {
   "cell_type": "code",
   "execution_count": 11,
   "id": "b50c8ccb-b1c1-4c00-9a8f-13cdfd7dda02",
   "metadata": {},
   "outputs": [],
   "source": [
    "f2.close()"
   ]
  },
  {
   "cell_type": "code",
   "execution_count": 18,
   "id": "99e2a1a9-9159-4c81-bc00-81944d5cebb1",
   "metadata": {},
   "outputs": [],
   "source": [
    "f3=open(\"xyz.txt\",\"w\")"
   ]
  },
  {
   "cell_type": "code",
   "execution_count": 20,
   "id": "b1da006e-fa5e-4493-870b-5700ed6b3776",
   "metadata": {},
   "outputs": [],
   "source": [
    "f3.writelines(\"this is krishna\")"
   ]
  },
  {
   "cell_type": "code",
   "execution_count": null,
   "id": "3d5d66c0-7e6e-4b88-b1fa-0b5f5e525152",
   "metadata": {},
   "outputs": [],
   "source": []
  }
 ],
 "metadata": {
  "kernelspec": {
   "display_name": "Python 3 (ipykernel)",
   "language": "python",
   "name": "python3"
  },
  "language_info": {
   "codemirror_mode": {
    "name": "ipython",
    "version": 3
   },
   "file_extension": ".py",
   "mimetype": "text/x-python",
   "name": "python",
   "nbconvert_exporter": "python",
   "pygments_lexer": "ipython3",
   "version": "3.11.4"
  }
 },
 "nbformat": 4,
 "nbformat_minor": 5
}
